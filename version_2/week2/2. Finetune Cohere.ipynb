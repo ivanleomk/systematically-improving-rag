{
 "cells": [
  {
   "cell_type": "code",
   "execution_count": 2,
   "metadata": {},
   "outputs": [],
   "source": [
    "%load_ext autoreload\n",
    "%autoreload 2"
   ]
  },
  {
   "cell_type": "markdown",
   "metadata": {},
   "source": [
    "# Week 2: Getting Started with Re-ranker Fine-tuning\n",
    "\n",
    "When improving RAG systems, starting with a managed re-ranker service can provide quick wins with minimal engineering overhead. This notebook demonstrates how to fine-tune a Cohere re-ranker for better retrieval performance using just a few hundred examples.\n",
    "\n",
    "## Why Start with Managed Re-rankers?\n",
    "\n",
    "Re-rankers offer several compelling advantages when you're just getting started:\n",
    "\n",
    "1. **Data Efficiency**\n",
    "   - Work effectively with limited data (as few as 256 examples)\n",
    "   - Only need to learn ranking within small candidate sets\n",
    "   - Can achieve significant gains without massive training sets\n",
    "\n",
    "2. **Easy Integration**\n",
    "   - Drop-in addition to existing retrieval pipelines\n",
    "   - Progressive improvement without system overhauls\n",
    "   - No need to re-embed your entire document collection\n",
    "\n",
    "3. **Quick Implementation**\n",
    "   - Hosted services handle infrastructure complexity\n",
    "   - No hyperparameter tuning required\n",
    "   - Focus on experimentation rather than deployment\n",
    "\n",
    "## The Power of Hard Negatives\n",
    "\n",
    "A key aspect of effective re-ranker training is the selection of hard negatives - examples that are similar to the correct answer but shouldn't be ranked highly. For instance:\n",
    "\n",
    "Query:\n",
    "```\n",
    "Name: Ayden\n",
    "Category: Financial Software\n",
    "Department: Finance\n",
    "Location: Berlin, DE\n",
    "Amount: 1273.45\n",
    "```\n",
    "\n",
    "Positive Example:\n",
    "```\n",
    "Subscription & Revenue Infrastructure\n",
    "```\n",
    "\n",
    "Hard Negatives:\n",
    "```\n",
    "Office Equipment Maintenance\n",
    "Office Supplies & Stationery\n",
    "Human Resources\n",
    "```\n",
    "\n",
    "Hard negatives help your model by:\n",
    "1. Improving discriminative ability between similar categories\n",
    "2. Building robustness against noisy results\n",
    "3. Making efficient use of limited training data\n",
    "\n",
    "## What We'll Cover\n",
    "\n",
    "In this notebook, you'll learn how to:\n",
    "1. Prepare training data with hard negatives\n",
    "2. Fine-tune a Cohere re-ranker\n",
    "3. Evaluate performance improvements\n",
    "4. Compare against baseline approaches\n",
    "\n",
    "## Prerequisites\n",
    "- Complete the `1. Synthetic-Transactions.ipynb` notebook first\n",
    "- Generate at least 256 examples for the fine-tuning process\n",
    "- Have a Cohere API key ready\n",
    "\n",
    "Let's dive in and start improving your retrieval performance with re-ranker fine-tuning!"
   ]
  },
  {
   "cell_type": "code",
   "execution_count": 5,
   "metadata": {},
   "outputs": [],
   "source": [
    "from braintrust import init_dataset\n",
    "\n",
    "dataset = init_dataset(project=\"fine-tuning\", name=\"Synthetic Transactions\")\n",
    "\n",
    "\n",
    "def get_dataset_split(split: str, dataset):\n",
    "    return [\n",
    "        {\n",
    "            \"input\": transaction[\"input\"],\n",
    "            \"expected\": transaction[\"expected\"],\n",
    "        }\n",
    "        for transaction in dataset\n",
    "        if transaction[\"metadata\"][\"split\"] == split\n",
    "    ]\n",
    "\n",
    "\n",
    "train_data = get_dataset_split(\"train\", dataset)\n",
    "eval_data = get_dataset_split(\"eval\", dataset)"
   ]
  },
  {
   "cell_type": "code",
   "execution_count": 3,
   "metadata": {},
   "outputs": [],
   "source": [
    "from pydantic import BaseModel\n",
    "\n",
    "\n",
    "# Define Pydantic model to store our finetuning data\n",
    "class FinetuneItem(BaseModel):\n",
    "    query: str\n",
    "    relevant_passages: list[str]\n",
    "    hard_negatives: list[str]\n",
    "\n",
    "\n",
    "# Get all the labels in our dataset\n",
    "labels = set([transaction[\"expected\"][0] for transaction in train_data])"
   ]
  },
  {
   "cell_type": "code",
   "execution_count": 8,
   "metadata": {},
   "outputs": [],
   "source": [
    "import random\n",
    "\n",
    "finetuning_data = [\n",
    "    FinetuneItem(\n",
    "        query=transaction[\"input\"],\n",
    "        relevant_passages=[transaction[\"expected\"][0]],\n",
    "        hard_negatives=random.sample(\n",
    "            [label for label in labels if label != transaction[\"expected\"][0]], k=4\n",
    "        ),\n",
    "    )\n",
    "    for transaction in train_data\n",
    "    # Generate 2 samples with 4 hard negatives each for each transaction\n",
    "    for _ in range(2)\n",
    "]\n",
    "\n",
    "with open(\"./data/cohere_finetune.jsonl\", \"w\") as f:\n",
    "    for item in finetuning_data:\n",
    "        f.write(item.model_dump_json() + \"\\n\")"
   ]
  },
  {
   "cell_type": "markdown",
   "metadata": {},
   "source": [
    "## Uploading Our Dataset\n",
    "\n",
    "A reminder that the fine-tuning itself will take around 1 hour to a day so you'll need to come back to this notebook later down the line when this is done.\n",
    "\n",
    "Once the dataset has a status `validated`, we can kick off our fine-tuning job."
   ]
  },
  {
   "cell_type": "code",
   "execution_count": 9,
   "metadata": {},
   "outputs": [
    {
     "name": "stdout",
     "output_type": "stream",
     "text": [
      "...\n",
      "...\n",
      "...\n"
     ]
    },
    {
     "data": {
      "text/plain": [
       "'validated'"
      ]
     },
     "execution_count": 9,
     "metadata": {},
     "output_type": "execute_result"
    }
   ],
   "source": [
    "import cohere\n",
    "\n",
    "co = cohere.ClientV2()\n",
    "\n",
    "reranked_dataset = co.datasets.create(\n",
    "    name=\"Synthetic Transactions Finetune\",\n",
    "    data=open(\"./data/cohere_finetune.jsonl\", \"rb\"),\n",
    "    type=\"reranker-finetune-input\",\n",
    ")\n",
    "\n",
    "co.wait(reranked_dataset).dataset.validation_status\n"
   ]
  },
  {
   "cell_type": "markdown",
   "metadata": {},
   "source": [
    "## Finetuning Our model\n",
    "\n",
    "Now that we've uploaded our dataset, we can kick off our fine-tuning job. Make sure to indicate that you're doing a re-ranker finetune when creating the job."
   ]
  },
  {
   "cell_type": "code",
   "execution_count": 25,
   "metadata": {},
   "outputs": [],
   "source": [
    "from cohere.finetuning import BaseModel, FinetunedModel, Settings\n",
    "\n",
    "finetune_request = co.finetuning.create_finetuned_model(\n",
    "    request=FinetunedModel(\n",
    "        name=\"finetuned-cohere-reranker\",\n",
    "        settings=Settings(\n",
    "            base_model=BaseModel(base_type=\"BASE_TYPE_RERANK\"),\n",
    "            dataset_id=reranked_dataset.id,\n",
    "        ),\n",
    "    )\n",
    ")"
   ]
  },
  {
   "cell_type": "code",
   "execution_count": 29,
   "metadata": {},
   "outputs": [
    {
     "data": {
      "text/plain": [
       "'STATUS_READY'"
      ]
     },
     "execution_count": 29,
     "metadata": {},
     "output_type": "execute_result"
    }
   ],
   "source": [
    "response = co.finetuning.get_finetuned_model(finetune_request.finetuned_model.id)\n",
    "response.finetuned_model.status"
   ]
  },
  {
   "cell_type": "markdown",
   "metadata": {},
   "source": [
    "# Benchmarking our Model\n",
    "\n",
    "We want to quantify the improvement that fine-tuning a model gets us. In order to do so, we'll be using the same retrieval evals as before to benchmark our fine-tuned model. Since we're building a model here that will suggest relevant categories for a given transaction, we'll be measuring the following two metrics.    \n",
    "\n",
    "- Recall : Whether the correct category is in the top N results\n",
    "- MRR : The mean reciprocal rank of the correct category in the top N results\n",
    "\n",
    "We want to mainly measure two things\n",
    "\n",
    "- How much of an improvement does a fine-tuned model get us over a pure embedding based approach\n",
    "- How does the fine-tuned model perform against the default Cohere re-ranker\n",
    "\n",
    "In order to do so, we'll be benchmarking our fine-tuned model against the default text-embedding-3-small model as well as the default Cohere re-ranker. We'll use `braintrust` here to run our evaluations and compare the results between our different configurations since it's where we've stored our evaluation data and provides an easy way to share our results with others.\n",
    "\n"
   ]
  },
  {
   "cell_type": "code",
   "execution_count": 4,
   "metadata": {},
   "outputs": [],
   "source": [
    "import lancedb\n",
    "\n",
    "db = lancedb.connect(\"./lancedb\")\n",
    "table = db.open_table(\"categories\")"
   ]
  },
  {
   "cell_type": "code",
   "execution_count": 6,
   "metadata": {},
   "outputs": [
    {
     "name": "stderr",
     "output_type": "stream",
     "text": [
      "Experiment fine-tuning-1731570018 is running at https://www.braintrust.dev/app/567/p/fine-tuning/experiments/fine-tuning-1731570018\n",
      "fine-tuning (data): 66it [00:00, 68690.83it/s]\n"
     ]
    },
    {
     "data": {
      "application/vnd.jupyter.widget-view+json": {
       "model_id": "846fe281d3fe4879ae65bf9a3e5d3f70",
       "version_major": 2,
       "version_minor": 0
      },
      "text/plain": [
       "fine-tuning (tasks):   0%|          | 0/66 [00:00<?, ?it/s]"
      ]
     },
     "metadata": {},
     "output_type": "display_data"
    },
    {
     "name": "stdout",
     "output_type": "stream",
     "text": [
      "\n",
      "=========================SUMMARY=========================\n",
      "fine-tuning-1731570018 compared to synthetic-transactions-eval-d206957a:\n",
      "72.73% (+31.82%) 'mrr@1'    score\t(24 improvements, 3 regressions)\n",
      "81.31% (+31.57%) 'mrr@3'    score\t(32 improvements, 3 regressions)\n",
      "81.62% (+29.14%) 'mrr@5'    score\t(33 improvements, 3 regressions)\n",
      "72.73% (+31.82%) 'recall@1' score\t(24 improvements, 3 regressions)\n",
      "90.91% (+28.79%) 'recall@3' score\t(19 improvements, 0 regressions)\n",
      "92.42% (+18.18%) 'recall@5' score\t(12 improvements, 0 regressions)\n",
      "\n",
      "3.92s (+222.03%) 'duration'\t(0 improvements, 66 regressions)\n",
      "\n",
      "See results for fine-tuning-1731570018 at https://www.braintrust.dev/app/567/p/fine-tuning/experiments/fine-tuning-1731570018\n"
     ]
    },
    {
     "name": "stderr",
     "output_type": "stream",
     "text": [
      "Experiment fine-tuning-1731570030 is running at https://www.braintrust.dev/app/567/p/fine-tuning/experiments/fine-tuning-1731570030\n",
      "fine-tuning (data): 66it [00:00, 19508.39it/s]\n"
     ]
    },
    {
     "data": {
      "application/vnd.jupyter.widget-view+json": {
       "model_id": "7408fc29a1044639aef3595a028a8d2f",
       "version_major": 2,
       "version_minor": 0
      },
      "text/plain": [
       "fine-tuning (tasks):   0%|          | 0/66 [00:00<?, ?it/s]"
      ]
     },
     "metadata": {},
     "output_type": "display_data"
    },
    {
     "name": "stdout",
     "output_type": "stream",
     "text": [
      "\n",
      "=========================SUMMARY=========================\n",
      "fine-tuning-1731570030 compared to fine-tuning-1731570018:\n",
      "22.73% (-50.00%) 'mrr@1'    score\t(2 improvements, 35 regressions)\n",
      "25.76% (-55.56%) 'mrr@3'    score\t(3 improvements, 43 regressions)\n",
      "27.20% (-54.42%) 'mrr@5'    score\t(3 improvements, 44 regressions)\n",
      "22.73% (-50.00%) 'recall@1' score\t(2 improvements, 35 regressions)\n",
      "30.30% (-60.61%) 'recall@3' score\t(0 improvements, 40 regressions)\n",
      "36.36% (-56.06%) 'recall@5' score\t(0 improvements, 37 regressions)\n",
      "\n",
      "3.30s (-61.13%) 'duration'\t(66 improvements, 0 regressions)\n",
      "\n",
      "See results for fine-tuning-1731570030 at https://www.braintrust.dev/app/567/p/fine-tuning/experiments/fine-tuning-1731570030\n"
     ]
    },
    {
     "name": "stderr",
     "output_type": "stream",
     "text": [
      "Experiment fine-tuning-1731570041 is running at https://www.braintrust.dev/app/567/p/fine-tuning/experiments/fine-tuning-1731570041\n",
      "fine-tuning (data): 66it [00:00, 42289.04it/s]\n"
     ]
    },
    {
     "data": {
      "application/vnd.jupyter.widget-view+json": {
       "model_id": "d70a28d186d34f36bb1875233fa157e9",
       "version_major": 2,
       "version_minor": 0
      },
      "text/plain": [
       "fine-tuning (tasks):   0%|          | 0/66 [00:00<?, ?it/s]"
      ]
     },
     "metadata": {},
     "output_type": "display_data"
    },
    {
     "name": "stdout",
     "output_type": "stream",
     "text": [
      "\n",
      "=========================SUMMARY=========================\n",
      "fine-tuning-1731570041 compared to fine-tuning-1731570030:\n",
      "40.91% (+18.18%) 'mrr@1'    score\t(19 improvements, 7 regressions)\n",
      "49.75% (+23.99%) 'mrr@3'    score\t(28 improvements, 8 regressions)\n",
      "52.47% (+25.28%) 'mrr@5'    score\t(33 improvements, 8 regressions)\n",
      "40.91% (+18.18%) 'recall@1' score\t(19 improvements, 7 regressions)\n",
      "62.12% (+31.82%) 'recall@3' score\t(25 improvements, 4 regressions)\n",
      "74.24% (+37.88%) 'recall@5' score\t(26 improvements, 1 regressions)\n",
      "\n",
      "2.05s (-125.85%) 'duration'\t(64 improvements, 2 regressions)\n",
      "\n",
      "See results for fine-tuning-1731570041 at https://www.braintrust.dev/app/567/p/fine-tuning/experiments/fine-tuning-1731570041\n"
     ]
    }
   ],
   "source": [
    "from braintrust import Eval, Score\n",
    "from lancedb.rerankers import CohereReranker\n",
    "from helpers import get_metrics_at_k, task\n",
    "\n",
    "\n",
    "def evaluate_braintrust(input, output, **kwargs):\n",
    "    metrics = get_metrics_at_k(metrics=[\"mrr\", \"recall\"], sizes=[1, 3, 5])\n",
    "    return [\n",
    "        Score(\n",
    "            name=metric,\n",
    "            score=score_fn(output, kwargs[\"expected\"]),\n",
    "            metadata={\"query\": input, \"result\": output, **kwargs[\"metadata\"]},\n",
    "        )\n",
    "        for metric, score_fn in metrics.items()\n",
    "    ]\n",
    "\n",
    "rerankers = [\n",
    "    # Remember to replace this with your fine-tuned model id\n",
    "    CohereReranker(model_name=\"0486d248-8476-40f6-a5bf-1ef6fd8a65dd-ft\"),\n",
    "    CohereReranker(model_name=\"rerank-english-v3.0\"),\n",
    "    None,\n",
    "]\n",
    "\n",
    "results = []\n",
    "\n",
    "for reranker in rerankers:\n",
    "    results.append(\n",
    "        await Eval(\n",
    "            \"fine-tuning\",  # Replace with your project name\n",
    "            data=eval_data, # We're using the eval data here to do the benchmarking\n",
    "            task=lambda query: task(user_query=query, table=table, reranker=reranker, max_k=25),  # Replace with your LLM call\n",
    "            scores=[evaluate_braintrust],\n",
    "        )\n",
    "    )"
   ]
  },
  {
   "cell_type": "markdown",
   "metadata": {},
   "source": [
    "# Results Analysis and Next Steps\n",
    "\n",
    "Now that we've run our evaluations, let's take a closer look at the results. We want to compare the performance of our fine-tuned model against the default Cohere re-ranker as well as the default vector search baseline without a re-ranker."
   ]
  },
  {
   "cell_type": "code",
   "execution_count": 7,
   "metadata": {},
   "outputs": [
    {
     "data": {
      "text/html": [
       "<div>\n",
       "<style scoped>\n",
       "    .dataframe tbody tr th:only-of-type {\n",
       "        vertical-align: middle;\n",
       "    }\n",
       "\n",
       "    .dataframe tbody tr th {\n",
       "        vertical-align: top;\n",
       "    }\n",
       "\n",
       "    .dataframe thead th {\n",
       "        text-align: right;\n",
       "    }\n",
       "</style>\n",
       "<table border=\"1\" class=\"dataframe\">\n",
       "  <thead>\n",
       "    <tr style=\"text-align: right;\">\n",
       "      <th></th>\n",
       "      <th>mrr@1</th>\n",
       "      <th>mrr@3</th>\n",
       "      <th>mrr@5</th>\n",
       "      <th>recall@1</th>\n",
       "      <th>recall@3</th>\n",
       "      <th>recall@5</th>\n",
       "    </tr>\n",
       "  </thead>\n",
       "  <tbody>\n",
       "    <tr>\n",
       "      <th>Fine-Tuned Reranker</th>\n",
       "      <td>0.73</td>\n",
       "      <td>0.81</td>\n",
       "      <td>0.82</td>\n",
       "      <td>0.73</td>\n",
       "      <td>0.91</td>\n",
       "      <td>0.92</td>\n",
       "    </tr>\n",
       "    <tr>\n",
       "      <th>Default Reranker</th>\n",
       "      <td>0.23</td>\n",
       "      <td>0.26</td>\n",
       "      <td>0.27</td>\n",
       "      <td>0.23</td>\n",
       "      <td>0.30</td>\n",
       "      <td>0.36</td>\n",
       "    </tr>\n",
       "    <tr>\n",
       "      <th>No Reranker</th>\n",
       "      <td>0.41</td>\n",
       "      <td>0.50</td>\n",
       "      <td>0.52</td>\n",
       "      <td>0.41</td>\n",
       "      <td>0.62</td>\n",
       "      <td>0.74</td>\n",
       "    </tr>\n",
       "  </tbody>\n",
       "</table>\n",
       "</div>"
      ],
      "text/plain": [
       "                     mrr@1  mrr@3  mrr@5  recall@1  recall@3  recall@5\n",
       "Fine-Tuned Reranker   0.73   0.81   0.82      0.73      0.91      0.92\n",
       "Default Reranker      0.23   0.26   0.27      0.23      0.30      0.36\n",
       "No Reranker           0.41   0.50   0.52      0.41      0.62      0.74"
      ]
     },
     "execution_count": 7,
     "metadata": {},
     "output_type": "execute_result"
    }
   ],
   "source": [
    "import pandas as pd\n",
    "scores = []\n",
    "\n",
    "for result in results:\n",
    "    result_scores = {}\n",
    "    for score_name, score in result.summary.scores.items():\n",
    "        result_scores[score_name] = score.score\n",
    "    scores.append(result_scores)\n",
    "\n",
    "df = pd.DataFrame(scores,index=[\"Fine-Tuned Reranker\", \"Default Reranker\", \"No Reranker\"])\n",
    "df.round(2)"
   ]
  },
  {
   "cell_type": "code",
   "execution_count": 9,
   "metadata": {},
   "outputs": [
    {
     "data": {
      "image/png": "[encoded data removed]",
      "text/plain": [
       "<Figure size 1600x500 with 2 Axes>"
      ]
     },
     "metadata": {},
     "output_type": "display_data"
    }
   ],
   "source": [
    "import matplotlib.pyplot as plt\n",
    "import numpy as np\n",
    "\n",
    "# Create figure with two subplots side by side\n",
    "fig, (ax1, ax2) = plt.subplots(1, 2, figsize=(16, 5))\n",
    "\n",
    "# Plot MRR scores\n",
    "mrr_cols = ['mrr@1', 'mrr@3', 'mrr@5']\n",
    "x = np.arange(len(mrr_cols))\n",
    "width = 0.25\n",
    "\n",
    "for i, model in enumerate(df.index):\n",
    "    offset = (i - 1) * width\n",
    "    ax1.bar(x + offset, df.loc[model, mrr_cols], width, label=model)\n",
    "\n",
    "ax1.set_title('Mean Reciprocal Rank (MRR)')\n",
    "ax1.set_xticks(x)\n",
    "ax1.set_xticklabels(mrr_cols)\n",
    "ax1.set_ylabel('Score')\n",
    "ax1.legend()\n",
    "ax1.grid(True, alpha=0.3)\n",
    "\n",
    "# Plot Recall scores\n",
    "recall_cols = ['recall@1', 'recall@3', 'recall@5']\n",
    "x = np.arange(len(recall_cols))\n",
    "\n",
    "for i, model in enumerate(df.index):\n",
    "    offset = (i - 1) * width\n",
    "    ax2.bar(x + offset, df.loc[model, recall_cols], width, label=model)\n",
    "\n",
    "ax2.set_title('Recall')\n",
    "ax2.set_xticks(x)\n",
    "ax2.set_xticklabels(recall_cols)\n",
    "ax2.set_ylabel('Score')\n",
    "ax2.legend()\n",
    "ax2.grid(True, alpha=0.3)\n",
    "\n",
    "plt.tight_layout()\n",
    "plt.show()\n"
   ]
  },
  {
   "cell_type": "markdown",
   "metadata": {},
   "source": [
    "\n",
    "\n",
    "With just 256 examples, our fine-tuned reranker showed a 60%+ average increase in recall and a 49% average increase in mean reciprocal rank (MRR) compared to the text-embedding-3-small model. On the contrary, using the default Cohere re-ranker actually degraded performance at the cost of increased latency.\n",
    "\n",
    "Ultimately when you have a limited amount of data, fine-tuning a reranker is a no-brainer. It allows you to outperform the default model and get a good return on your investment. When looking to fine-tune it on your own data, some key considerations to look at are\n",
    "\n",
    "1. **Model Selection** : We chose to finetune on the cohere re-rankers but they have english and multi-lingual options to choose from. There are also other managed providers such as Jina that offer re-ranker models. It's important to experiment and find one that works for you\n",
    "2. **Dataset Quality** : In our example here, we mined for hard negatives by simply randomly selecting other categories. You might want to adopt a more sophisticated approach such as looking at cosine similarity or getting a language model involved.\n",
    "\n",
    "In the next notebook, we'll look at how we might fine-tune an open source model using the Sentence Transformers library. We'll need to manage our hyper-parameters, loss functions and training loop but at the same time, be able to squeeze out significantly more performance out of our model. "
   ]
  }
 ],
 "metadata": {
  "kernelspec": {
   "display_name": ".venv",
   "language": "python",
   "name": "python3"
  },
  "language_info": {
   "codemirror_mode": {
    "name": "ipython",
    "version": 3
   },
   "file_extension": ".py",
   "mimetype": "text/x-python",
   "name": "python",
   "nbconvert_exporter": "python",
   "pygments_lexer": "ipython3",
   "version": "3.11.10"
  }
 },
 "nbformat": 4,
 "nbformat_minor": 2
}
