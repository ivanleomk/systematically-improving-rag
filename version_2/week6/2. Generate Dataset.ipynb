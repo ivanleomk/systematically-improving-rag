{
 "cells": [
  {
   "cell_type": "code",
   "execution_count": 92,
   "metadata": {},
   "outputs": [],
   "source": [
    "%load_ext autoreload\n",
    "%autoreload 2"
   ]
  },
  {
   "cell_type": "markdown",
   "metadata": {},
   "source": [
    "# Week 6 - Systematically Improving Your Rag Application\n",
    "\n",
    "> If you haven't ran the previous notebook `1. Evaluate Tools.ipynb`, please do so before continuing. A lot of the code in this notebook will be based off the evaluation methods that we cover in that notebook.\n",
    "\n",
    "In this notebook, we'll be generating a synthetic dataset of user requests to evaluate our model's ability to call the right tool given a user request. This will help us understand how our model performs in this scenario and identify failure points that our model might struggle with.\n",
    "\n",
    "We'll do so in 3 steps\n",
    "\n",
    "1. **Failure Modes** : We'll first start by thinking about the specific failure modes that our model might struggle and show examples where our model might get confused\n",
    "\n",
    "2. **Generating Synthetic Prompts** : We'll then generate synthetic prompts for each command that take advantage and specifically test these failure modes.\n",
    "\n",
    "3. **Benchmarking** : We'll then use a naive approach to see how our model performs on these initial set of questions, establishing a baseline that we can test future improvements against.\n",
    "\n",
    "By the end of this notebook, you'll have a set of realistic test queries that can be used repeatedly to measure if your model ccalls the right tools - and how often."
   ]
  },
  {
   "cell_type": "markdown",
   "metadata": {},
   "source": [
    "# Our Initial Commands\n",
    "\n",
    "We've downloaded a list of commands ahead of time in a `raw_commands.json` file. These consist of a set of commands that we've downloaded from the `raycast` application ahead of time as well as some additional commands that we've added to the application.\n",
    "\n",
    "We'll load these commands into a list of Command objects as seen below. We'll store the following fields from data in the `raw_commands.json` file\n",
    "\n",
    "- `description` : A short description of the comamnd from the extension's documentation\n",
    "- `extension` : This is the name of the extension that the command belongs to\n",
    "- `command_name` : This is the name of the command as it appears in the `raycast` extension\n",
    "\n",
    "In order to ensure we have a unique command for each extension, we'll concatenate the `extension` and `command_name` fields together to form a unique key. This will help avoid a situation whereby we have multiple commands with the same name in different extensions.\n",
    "\n",
    "Eg. If our Obsidian and Apple Notes extensions both use the same `search` command, we'll have two commands with the same name. This would be very confusing and hard to test. So we would get our unique key here as `obsidian.search` and `apple-notes.search` which helps solve this issue.\n"
   ]
  },
  {
   "cell_type": "code",
   "execution_count": 1,
   "metadata": {},
   "outputs": [
    {
     "data": {
      "text/plain": [
       "70"
      ]
     },
     "execution_count": 1,
     "metadata": {},
     "output_type": "execute_result"
    }
   ],
   "source": [
    "from pydantic import BaseModel, computed_field\n",
    "import json\n",
    "\n",
    "\n",
    "class Command(BaseModel):\n",
    "    extension_name: str\n",
    "    command_name: str\n",
    "    command_description: str\n",
    "\n",
    "    @computed_field\n",
    "    def key(self) -> str:\n",
    "        return f\"{self.extension_name}.{self.command_name}\"\n",
    "\n",
    "\n",
    "def load_commands(file_path: str) -> list[Command]:\n",
    "    with open(file_path, \"r\") as file:\n",
    "        return [\n",
    "            Command(\n",
    "                extension_name=command[\"extension_name\"],\n",
    "                command_name=command[\"source_name\"],\n",
    "                command_description=command[\"description\"],\n",
    "            )\n",
    "            for command in json.load(file)\n",
    "        ]\n",
    "\n",
    "\n",
    "commands = load_commands(\"raw_commands.json\")\n",
    "len(commands)"
   ]
  },
  {
   "cell_type": "markdown",
   "metadata": {},
   "source": [
    "## Identifying Failure Modes\n",
    "\n",
    "When deciding which apps/commands to call, two main pitfalls emerge:\n",
    "\n",
    "**Lack of Context**\n",
    "\n",
    "Users operate multiple note-taking apps (Notion, Obsidian, Apple Notes). Without explicit context—e.g., that Apple Notes is only for quick, ephemeral tasks—our model might choose the wrong note-taking command, leading to confusion and incorrect data storage.\n",
    "\n",
    "**Multi-Step Tasks**\n",
    "\n",
    "Some user requests require calling multiple commands in sequence or in parallel (e.g., create a new release post, then ping the #engineering channel). Our model might forget one step or mix up the order.\n",
    "We want our test prompts to systematically surface these weaknesses, allowing us to measure how reliably the model navigates them\n"
   ]
  },
  {
   "cell_type": "markdown",
   "metadata": {},
   "source": [
    "### Lack Of Context\n",
    "\n",
    "Let's imagine we have three commands that we want to evalute\n",
    "\n",
    "- `obsidian.search`\n",
    "- `apple-notes.search`\n",
    "- `notion.search`\n",
    "\n",
    "We'll represent our tool calls as a list of commands that the model has selected. For now, we'll only be evaluating whether the model has selected the correct tool or not as an initial step. When you implement this for your use case, you'll also want to evaluate the arguments that the model has selected for each specific command.\n",
    "\n",
    "Without much context or description of what the extension's command does, we might expect our model to get confused. For instance, it's perfectly valid for a user to use apple-notes for every single note they take, thus resulting in us ideally never calling any other command related to notetaking other than apple notes.\n",
    "\n",
    "Let's see this in action below where our model is provided with these commands and asked to call the correct tool given a user request."
   ]
  },
  {
   "cell_type": "code",
   "execution_count": 3,
   "metadata": {},
   "outputs": [],
   "source": [
    "from pydantic import BaseModel, field_validator, ValidationInfo\n",
    "\n",
    "\n",
    "class UserCommandArgument(BaseModel):\n",
    "    title: str\n",
    "    value: str\n",
    "\n",
    "\n",
    "class UserCommand(BaseModel):\n",
    "    key: str\n",
    "    arguments: list[UserCommandArgument]\n",
    "\n",
    "\n",
    "class SelectedCommands(BaseModel):\n",
    "    selected_commands: list[UserCommand]\n",
    "\n",
    "    @field_validator(\"selected_commands\")\n",
    "    def validate_selected_commands(cls, v, info: ValidationInfo):\n",
    "        commands: list[Command] = info.context[\"commands\"]\n",
    "        valid_command_keys = [command.key for command in commands]\n",
    "        invalid_keys = [\n",
    "            command.key for command in v if command.key not in valid_command_keys\n",
    "        ]\n",
    "        if invalid_keys:\n",
    "            raise ValueError(\n",
    "                f\"Commands {invalid_keys} are not valid commands. Valid commands that can be used are {valid_command_keys}\"\n",
    "            )\n",
    "\n",
    "        if len(v) > 4:\n",
    "            raise ValueError(\"You can only select at most 4 commands\")\n",
    "\n",
    "        return v\n"
   ]
  },
  {
   "cell_type": "markdown",
   "metadata": {},
   "source": [
    "In response to a user query like `fetch me my notes on CS325 tagged as important`, we might expect our model to select the `obsidian.search` command. In this case, it would call it with the arguments `title: CS325` and `tag: important`. This would in turn translate to the following command call\n",
    "\n",
    "```python\n",
    "SelectedCommands(\n",
    "    selected_commands=[\n",
    "        UserCommand(\n",
    "            key=\"obsidian.search\",\n",
    "            arguments=[\n",
    "                UserCommandArgument(title=\"title\", value=\"CS325\"), \n",
    "                UserCommandArgument(title=\"tag\", value=\"important\")\n",
    "            ]\n",
    "        )\n",
    "    ]\n",
    ")\n",
    "```\n",
    "\n",
    "This could then be executed as a command in the `raycast` application with its own validation logic and return the results to the user. We're also able to modify the list of valid commands on demand by reading a shared list of commands from the `ValidationInfo` object which we can access in both our validation and prompt formatting logic.\n",
    "\n",
    "Let's see this in action below where we provide our model with the list of commands we've provided in the `raw_commands.json` file and ask it to select the correct tool given a user request. In this example, our user has the following user behaviour.\n",
    "\n",
    "- He uses Obsidian for personal notes and reflections on a wide range of topics\n",
    "- He uses Apple notes for quick notes that are more one-off. Examples of these notes includes recipes, shopping lists, notes about a movie we want to watch, things to note down etc, todo lists, reminders etc\n",
    "- He uses Notion for planning trips, tracking expenses and other forms of long term planning. \n",
    "- He uses Confluence for company documentation, posts and notes. \n",
    "\n",
    "We can represent these in some simple test-cases as seen below."
   ]
  },
  {
   "cell_type": "code",
   "execution_count": 98,
   "metadata": {},
   "outputs": [
    {
     "data": {
      "text/html": [
       "<pre style=\"white-space:pre;overflow-x:auto;line-height:normal;font-family:Menlo,'DejaVu Sans Mono',consolas,'Courier New',monospace\">\n",
       "Query: Find my cheeseburger recipe\n",
       "Selected commands: <span style=\"font-weight: bold\">[]</span>\n",
       "Expected tool: <span style=\"font-weight: bold\">[</span><span style=\"color: #008000; text-decoration-color: #008000\">'apple-notes.index'</span><span style=\"font-weight: bold\">]</span>\n",
       "--------------------------------------------------\n",
       "</pre>\n"
      ],
      "text/plain": [
       "\n",
       "Query: Find my cheeseburger recipe\n",
       "Selected commands: \u001b[1m[\u001b[0m\u001b[1m]\u001b[0m\n",
       "Expected tool: \u001b[1m[\u001b[0m\u001b[32m'apple-notes.index'\u001b[0m\u001b[1m]\u001b[0m\n",
       "--------------------------------------------------\n"
      ]
     },
     "metadata": {},
     "output_type": "display_data"
    },
    {
     "data": {
      "text/html": [
       "<pre style=\"white-space:pre;overflow-x:auto;line-height:normal;font-family:Menlo,'DejaVu Sans Mono',consolas,'Courier New',monospace\">\n",
       "Query: What did I write about LSTMs previously?\n",
       "Selected commands: <span style=\"font-weight: bold\">[</span><span style=\"color: #008000; text-decoration-color: #008000\">'google-search.index'</span>, <span style=\"color: #008000; text-decoration-color: #008000\">'obsidian.searchNoteCommand'</span><span style=\"font-weight: bold\">]</span>\n",
       "Expected tool: <span style=\"font-weight: bold\">[</span><span style=\"color: #008000; text-decoration-color: #008000\">'obsidian.searchNoteCommand'</span><span style=\"font-weight: bold\">]</span>\n",
       "--------------------------------------------------\n",
       "</pre>\n"
      ],
      "text/plain": [
       "\n",
       "Query: What did I write about LSTMs previously?\n",
       "Selected commands: \u001b[1m[\u001b[0m\u001b[32m'google-search.index'\u001b[0m, \u001b[32m'obsidian.searchNoteCommand'\u001b[0m\u001b[1m]\u001b[0m\n",
       "Expected tool: \u001b[1m[\u001b[0m\u001b[32m'obsidian.searchNoteCommand'\u001b[0m\u001b[1m]\u001b[0m\n",
       "--------------------------------------------------\n"
      ]
     },
     "metadata": {},
     "output_type": "display_data"
    },
    {
     "data": {
      "text/html": [
       "<pre style=\"white-space:pre;overflow-x:auto;line-height:normal;font-family:Menlo,'DejaVu Sans Mono',consolas,'Courier New',monospace\">\n",
       "Query: Does Sarah sit on the product or engineering team?\n",
       "Selected commands: <span style=\"font-weight: bold\">[]</span>\n",
       "Expected tool: <span style=\"font-weight: bold\">[</span><span style=\"color: #008000; text-decoration-color: #008000\">'confluence-search.people'</span><span style=\"font-weight: bold\">]</span>\n",
       "--------------------------------------------------\n",
       "</pre>\n"
      ],
      "text/plain": [
       "\n",
       "Query: Does Sarah sit on the product or engineering team?\n",
       "Selected commands: \u001b[1m[\u001b[0m\u001b[1m]\u001b[0m\n",
       "Expected tool: \u001b[1m[\u001b[0m\u001b[32m'confluence-search.people'\u001b[0m\u001b[1m]\u001b[0m\n",
       "--------------------------------------------------\n"
      ]
     },
     "metadata": {},
     "output_type": "display_data"
    },
    {
     "data": {
      "text/html": [
       "<pre style=\"white-space:pre;overflow-x:auto;line-height:normal;font-family:Menlo,'DejaVu Sans Mono',consolas,'Courier New',monospace\">\n",
       "Query: Where are we staying in Japan on <span style=\"color: #008080; text-decoration-color: #008080; font-weight: bold\">15</span>-18th January <span style=\"color: #008080; text-decoration-color: #008080; font-weight: bold\">2025</span>?\n",
       "Selected commands: <span style=\"font-weight: bold\">[]</span>\n",
       "Expected tool: <span style=\"font-weight: bold\">[</span><span style=\"color: #008000; text-decoration-color: #008000\">'notion.search'</span><span style=\"font-weight: bold\">]</span>\n",
       "--------------------------------------------------\n",
       "</pre>\n"
      ],
      "text/plain": [
       "\n",
       "Query: Where are we staying in Japan on \u001b[1;36m15\u001b[0m-18th January \u001b[1;36m2025\u001b[0m?\n",
       "Selected commands: \u001b[1m[\u001b[0m\u001b[1m]\u001b[0m\n",
       "Expected tool: \u001b[1m[\u001b[0m\u001b[32m'notion.search'\u001b[0m\u001b[1m]\u001b[0m\n",
       "--------------------------------------------------\n"
      ]
     },
     "metadata": {},
     "output_type": "display_data"
    }
   ],
   "source": [
    "import instructor\n",
    "import google.generativeai as genai\n",
    "from rich import print\n",
    "\n",
    "queries = [\n",
    "    [\n",
    "        \"Find my cheeseburger recipe\",\n",
    "        [\"apple-notes.index\"],\n",
    "    ],\n",
    "    [\"What did I write about LSTMs previously?\", [\"obsidian.searchNoteCommand\"]],\n",
    "    [\n",
    "        \"Does Sarah sit on the product or engineering team?\",\n",
    "        [\"confluence-search.people\"],\n",
    "    ],\n",
    "    [\n",
    "        \"Where are we staying in Japan on 15-18th January 2025?\",\n",
    "        [\"notion.search\"],\n",
    "    ],\n",
    "]\n",
    "\n",
    "client = instructor.from_gemini(genai.GenerativeModel(\"models/gemini-1.5-flash-latest\"))\n",
    "\n",
    "\n",
    "for query, expected_tool in queries:\n",
    "    response = client.chat.completions.create(\n",
    "        messages=[\n",
    "            {\n",
    "                \"role\": \"system\",\n",
    "                \"content\": \"\"\"\n",
    "                You are a helpful assistant that can execute commands in response to a user query. You have access to the following commands:\n",
    "                \n",
    "                <commands>\n",
    "                {% for command in commands %}\n",
    "                - {{ command.key }} : {{ command.command_description }}\n",
    "                {% endfor %}\n",
    "                </commands>\n",
    "\n",
    "                You must select at least one command to be called.\n",
    "                \"\"\",\n",
    "            },\n",
    "            {\n",
    "                \"role\": \"user\",\n",
    "                \"content\": query,\n",
    "            },\n",
    "        ],\n",
    "        response_model=SelectedCommands,\n",
    "        context={\"commands\": commands},\n",
    "    )\n",
    "    print(\n",
    "        f\"\\nQuery: {query}\\nSelected commands: {[command.key for command in response.selected_commands]}\\nExpected tool: {expected_tool}\\n{'-' * 50}\"\n",
    "    )\n"
   ]
  },
  {
   "cell_type": "markdown",
   "metadata": {},
   "source": [
    "Without any context, our model struggles to decide what the right tool to be called is in response to the user request. \n",
    "\n",
    "In fact in our four examples above, it gets only none of them right. This is a good indication that in order for our model to be able to call the right tool, we need to provide it with more context."
   ]
  },
  {
   "cell_type": "markdown",
   "metadata": {},
   "source": [
    "### Multi-Step Tasks\n",
    "\n",
    "How about user queries then that require multiple tool calls to be called and executed in a specific order?\n",
    "\n",
    "- `Send bobby a message that we're going to be late for spin class later` : If we're using imessage for this, we might need to call `imessage.findChat` first to find the right conversation and then call the `imessage.sendMessage` command to send the message.\n",
    "- `Create a new release page about our latest deployment and ping the #engineering team to get started filling in the details` : We might use `confluence.new-blog` here to create a blog post about the deployment information and then also call `microsoft-teams.findChat` to call the engineering team to get started filling in the details.\n",
    "\n",
    "We can see that in this case, when it comes to the tool call itself, we have calls that have dependencies ( Eg. findChat and sendMessage) as well as multiple commands that should be executed in parallel ( Eg. new-blog and sendMessage). \n",
    "\n",
    "Let's see our ability to call the right tools in response to a user query."
   ]
  },
  {
   "cell_type": "code",
   "execution_count": 99,
   "metadata": {},
   "outputs": [
    {
     "data": {
      "text/html": [
       "<pre style=\"white-space:pre;overflow-x:auto;line-height:normal;font-family:Menlo,'DejaVu Sans Mono',consolas,'Courier New',monospace\">\n",
       "Query: Let's start scaffolding out a new release post about our latest deployment. Also send a message the \n",
       "#engineering channel to tell them to fill it up\n",
       "Selected commands: <span style=\"font-weight: bold\">[</span><span style=\"color: #008000; text-decoration-color: #008000\">'notion.create-database-page'</span>, <span style=\"color: #008000; text-decoration-color: #008000\">'discord.sendMessage'</span><span style=\"font-weight: bold\">]</span>\n",
       "Expected tool: <span style=\"font-weight: bold\">[</span><span style=\"color: #008000; text-decoration-color: #008000\">'confluence-search.new-blog'</span>, <span style=\"color: #008000; text-decoration-color: #008000\">'jira.active-sprints'</span>, <span style=\"color: #008000; text-decoration-color: #008000\">'microsoft-teams.findChat'</span>, \n",
       "<span style=\"color: #008000; text-decoration-color: #008000\">'microsoft-teams.sendMessage'</span><span style=\"font-weight: bold\">]</span>\n",
       "--------------------------------------------------\n",
       "</pre>\n"
      ],
      "text/plain": [
       "\n",
       "Query: Let's start scaffolding out a new release post about our latest deployment. Also send a message the \n",
       "#engineering channel to tell them to fill it up\n",
       "Selected commands: \u001b[1m[\u001b[0m\u001b[32m'notion.create-database-page'\u001b[0m, \u001b[32m'discord.sendMessage'\u001b[0m\u001b[1m]\u001b[0m\n",
       "Expected tool: \u001b[1m[\u001b[0m\u001b[32m'confluence-search.new-blog'\u001b[0m, \u001b[32m'jira.active-sprints'\u001b[0m, \u001b[32m'microsoft-teams.findChat'\u001b[0m, \n",
       "\u001b[32m'microsoft-teams.sendMessage'\u001b[0m\u001b[1m]\u001b[0m\n",
       "--------------------------------------------------\n"
      ]
     },
     "metadata": {},
     "output_type": "display_data"
    },
    {
     "data": {
      "text/html": [
       "<pre style=\"white-space:pre;overflow-x:auto;line-height:normal;font-family:Menlo,'DejaVu Sans Mono',consolas,'Courier New',monospace\">\n",
       "Query: find weather taiwan dec and generate shopping list for it\n",
       "Selected commands: <span style=\"font-weight: bold\">[</span><span style=\"color: #008000; text-decoration-color: #008000\">'google-search.index'</span><span style=\"font-weight: bold\">]</span>\n",
       "Expected tool: <span style=\"font-weight: bold\">[</span><span style=\"color: #008000; text-decoration-color: #008000\">'google-search.index'</span>, <span style=\"color: #008000; text-decoration-color: #008000\">'apple-notes.new-note'</span>, <span style=\"color: #008000; text-decoration-color: #008000\">'apple-notes.add-text'</span><span style=\"font-weight: bold\">]</span>\n",
       "--------------------------------------------------\n",
       "</pre>\n"
      ],
      "text/plain": [
       "\n",
       "Query: find weather taiwan dec and generate shopping list for it\n",
       "Selected commands: \u001b[1m[\u001b[0m\u001b[32m'google-search.index'\u001b[0m\u001b[1m]\u001b[0m\n",
       "Expected tool: \u001b[1m[\u001b[0m\u001b[32m'google-search.index'\u001b[0m, \u001b[32m'apple-notes.new-note'\u001b[0m, \u001b[32m'apple-notes.add-text'\u001b[0m\u001b[1m]\u001b[0m\n",
       "--------------------------------------------------\n"
      ]
     },
     "metadata": {},
     "output_type": "display_data"
    }
   ],
   "source": [
    "queries = [\n",
    "    [\n",
    "        \"Let's start scaffolding out a new release post about our latest deployment. Also send a message the #engineering channel to tell them to fill it up\",\n",
    "        [\n",
    "            \"confluence-search.new-blog\",\n",
    "            \"jira.active-sprints\",\n",
    "            \"microsoft-teams.findChat\",\n",
    "            \"microsoft-teams.sendMessage\",\n",
    "        ],\n",
    "    ],\n",
    "    [\n",
    "        \"find weather taiwan dec and generate shopping list for it\",\n",
    "        [\"google-search.index\", \"apple-notes.new-note\", \"apple-notes.add-text\"],\n",
    "    ],\n",
    "]\n",
    "\n",
    "client = instructor.from_gemini(genai.GenerativeModel(\"models/gemini-1.5-flash-latest\"))\n",
    "\n",
    "\n",
    "for query, expected_tool in queries:\n",
    "    response = client.chat.completions.create(\n",
    "        messages=[\n",
    "            {\n",
    "                \"role\": \"system\",\n",
    "                \"content\": \"\"\"\n",
    "                You are a helpful assistant that can execute commands in response to a user query. You have access to the following commands:\n",
    "                \n",
    "                <commands>\n",
    "                {% for command in commands %}\n",
    "                - {{ command.key }} : {{ command.command_description }}\n",
    "                {% endfor %}\n",
    "                </commands>\n",
    "\n",
    "                You must select at least one command to be called.\n",
    "                \"\"\",\n",
    "            },\n",
    "            {\n",
    "                \"role\": \"user\",\n",
    "                \"content\": query,\n",
    "            },\n",
    "        ],\n",
    "        response_model=SelectedCommands,\n",
    "        context={\"commands\": commands},\n",
    "    )\n",
    "    print(\n",
    "        f\"\\nQuery: {query}\\nSelected commands: {[command.key for command in response.selected_commands]}\\nExpected tool: {expected_tool}\\n{'-' * 50}\"\n",
    "    )\n"
   ]
  },
  {
   "cell_type": "markdown",
   "metadata": {},
   "source": [
    "We can see that our model's performance is slightly worse here. \n",
    "\n",
    "In the first case, it's wrongly identifies that we should send a message using the `discord.sendMessage` command instead of the `teams.sendMessage` command. Additionally, it doesn't call the `jira.active-sprints` command as expected.\n",
    "\n",
    "In the second case it's able to call the `google-search.index` command but then struggles to call the `apple-notes.new-note` and `apple-notes.add-text` commands to generate the shopping list and save it into our notes."
   ]
  },
  {
   "cell_type": "markdown",
   "metadata": {},
   "source": [
    "# Generating Synthetic Queries\n",
    "\n",
    "We've identified that our model struggles to call the right tool when a user query requires some implicit context or multiple steps to be executed. We'll now start generating some synthetic queries that specifically test these failure modes.\n",
    "\n",
    "We'll start by writing out a brief prompt and defining how our user uses these individual extensions. We'll then randomly sample from our list of commands and use them to generate a list of queries that require the use of these commands.\n",
    "\n",
    "These will then come in handy when we want to seed future generations of queries by allowing us to generate more diverse and unique queries."
   ]
  },
  {
   "cell_type": "code",
   "execution_count": 17,
   "metadata": {},
   "outputs": [
    {
     "data": {
      "text/html": [
       "<pre style=\"white-space:pre;overflow-x:auto;line-height:normal;font-family:Menlo,'DejaVu Sans Mono',consolas,'Courier New',monospace\"><span style=\"color: #800080; text-decoration-color: #800080; font-weight: bold\">UserQuery</span><span style=\"font-weight: bold\">(</span>\n",
       "    <span style=\"color: #808000; text-decoration-color: #808000\">chain_of_thought</span>=<span style=\"color: #008000; text-decoration-color: #008000\">'User wants to send a message on discord about an upcoming gaming session.'</span>,\n",
       "    <span style=\"color: #808000; text-decoration-color: #808000\">user_query</span>=<span style=\"color: #008000; text-decoration-color: #008000\">'Send a message in #gaming-session: \"Hey everyone, let\\'s play some Overwatch tonight at 8pm! Who\\'s</span>\n",
       "<span style=\"color: #008000; text-decoration-color: #008000\">in?\" '</span>,\n",
       "    <span style=\"color: #808000; text-decoration-color: #808000\">commands</span>=<span style=\"font-weight: bold\">[</span>\n",
       "        <span style=\"color: #800080; text-decoration-color: #800080; font-weight: bold\">UserCommand</span><span style=\"font-weight: bold\">(</span>\n",
       "            <span style=\"color: #808000; text-decoration-color: #808000\">key</span>=<span style=\"color: #008000; text-decoration-color: #008000\">'discord.sendMessage'</span>,\n",
       "            <span style=\"color: #808000; text-decoration-color: #808000\">arguments</span>=<span style=\"font-weight: bold\">[</span>\n",
       "                <span style=\"color: #800080; text-decoration-color: #800080; font-weight: bold\">UserCommandArgument</span><span style=\"font-weight: bold\">(</span><span style=\"color: #808000; text-decoration-color: #808000\">title</span>=<span style=\"color: #008000; text-decoration-color: #008000\">'channel'</span>, <span style=\"color: #808000; text-decoration-color: #808000\">value</span>=<span style=\"color: #008000; text-decoration-color: #008000\">'#gaming-session'</span><span style=\"font-weight: bold\">)</span>,\n",
       "                <span style=\"color: #800080; text-decoration-color: #800080; font-weight: bold\">UserCommandArgument</span><span style=\"font-weight: bold\">(</span>\n",
       "                    <span style=\"color: #808000; text-decoration-color: #808000\">title</span>=<span style=\"color: #008000; text-decoration-color: #008000\">'message'</span>,\n",
       "                    <span style=\"color: #808000; text-decoration-color: #808000\">value</span>=<span style=\"color: #008000; text-decoration-color: #008000\">\"Hey everyone, let's play some Overwatch tonight at 8pm! Who's in?\"</span>\n",
       "                <span style=\"font-weight: bold\">)</span>\n",
       "            <span style=\"font-weight: bold\">]</span>\n",
       "        <span style=\"font-weight: bold\">)</span>\n",
       "    <span style=\"font-weight: bold\">]</span>\n",
       "<span style=\"font-weight: bold\">)</span>\n",
       "</pre>\n"
      ],
      "text/plain": [
       "\u001b[1;35mUserQuery\u001b[0m\u001b[1m(\u001b[0m\n",
       "    \u001b[33mchain_of_thought\u001b[0m=\u001b[32m'User wants to send a message on discord about an upcoming gaming session.'\u001b[0m,\n",
       "    \u001b[33muser_query\u001b[0m=\u001b[32m'Send a message in #gaming-session: \"Hey everyone, let\\'s play some Overwatch tonight at 8pm! Who\\'s\u001b[0m\n",
       "\u001b[32min?\" '\u001b[0m,\n",
       "    \u001b[33mcommands\u001b[0m=\u001b[1m[\u001b[0m\n",
       "        \u001b[1;35mUserCommand\u001b[0m\u001b[1m(\u001b[0m\n",
       "            \u001b[33mkey\u001b[0m=\u001b[32m'discord.sendMessage'\u001b[0m,\n",
       "            \u001b[33marguments\u001b[0m=\u001b[1m[\u001b[0m\n",
       "                \u001b[1;35mUserCommandArgument\u001b[0m\u001b[1m(\u001b[0m\u001b[33mtitle\u001b[0m=\u001b[32m'channel'\u001b[0m, \u001b[33mvalue\u001b[0m=\u001b[32m'#gaming-session'\u001b[0m\u001b[1m)\u001b[0m,\n",
       "                \u001b[1;35mUserCommandArgument\u001b[0m\u001b[1m(\u001b[0m\n",
       "                    \u001b[33mtitle\u001b[0m=\u001b[32m'message'\u001b[0m,\n",
       "                    \u001b[33mvalue\u001b[0m=\u001b[32m\"Hey\u001b[0m\u001b[32m everyone, let's play some Overwatch tonight at 8pm! Who's in?\"\u001b[0m\n",
       "                \u001b[1m)\u001b[0m\n",
       "            \u001b[1m]\u001b[0m\n",
       "        \u001b[1m)\u001b[0m\n",
       "    \u001b[1m]\u001b[0m\n",
       "\u001b[1m)\u001b[0m\n"
      ]
     },
     "metadata": {},
     "output_type": "display_data"
    }
   ],
   "source": [
    "import random\n",
    "from pydantic import BaseModel, field_validator, ValidationInfo\n",
    "from rich import print\n",
    "import re\n",
    "\n",
    "\n",
    "class UserQuery(BaseModel):\n",
    "    chain_of_thought: str\n",
    "    user_query: str\n",
    "    commands: list[UserCommand]\n",
    "\n",
    "    @field_validator(\"user_query\")\n",
    "    def validate_valid_query(cls, v):\n",
    "        return re.sub(r'\\\\{1,}\"', \"'\", v)\n",
    "\n",
    "    @field_validator(\"commands\")\n",
    "    def validate_commands(cls, v, info: ValidationInfo):\n",
    "        commands: list[Command] = info.context[\"commands\"]\n",
    "        valid_command_keys = [command.key for command in commands]\n",
    "        invalid_keys = [\n",
    "            command.key for command in v if command.key not in valid_command_keys\n",
    "        ]\n",
    "\n",
    "        desired_command = info.context[\"command\"]\n",
    "        if desired_command.key not in valid_command_keys:\n",
    "            raise ValueError(\n",
    "                f\"You must use the command {desired_command.key} in your query.\"\n",
    "            )\n",
    "        if invalid_keys:\n",
    "            raise ValueError(\n",
    "                f\"Commands {invalid_keys} are not valid commands. Valid commands that can be used are {valid_command_keys}\"\n",
    "            )\n",
    "        return v\n",
    "\n",
    "\n",
    "async def generate_query(\n",
    "    client: instructor.AsyncInstructor,\n",
    "    command: Command,\n",
    "    commands: list[Command],\n",
    "    user_behaviour: str,\n",
    ") -> UserQuery:\n",
    "    query_length = random.randint(10, 30)\n",
    "\n",
    "    return await client.chat.completions.create(\n",
    "        messages=[\n",
    "            {\n",
    "                \"role\": \"system\",\n",
    "                \"content\": \"\"\"\n",
    "                Generate a hypothetical user message that is about {{ length }} uses the following command and at most 2 more commands from the list of commands below. Make sure to use the specific command name as the key for the command.\n",
    "\n",
    "                command_name: {{command.key}}    \n",
    "                description: {{command.command_description}}\n",
    "\n",
    "                Here are a list of other commands that you can use in conjunction with the above command \n",
    "\n",
    "                <commands>\n",
    "                {% for command in commands %}\n",
    "                <command>\n",
    "                    <command_name>{{ command.key }}</command_name>\n",
    "                    <command_description>{{ command.command_description }}</command_description>\n",
    "                </command>\n",
    "                {% endfor %}\n",
    "                </commands>\n",
    "\n",
    "                Here is a rough description of how our user uses the application\n",
    "\n",
    "                <user_behaviour>\n",
    "                {{ user_behaviour }}\n",
    "                </user_behaviour>\n",
    "\n",
    "                Think carefully about what this specific command is used for, how it differs from other commands available in the same extension and other commands in the application. Lastly consider about how we could use this command in conjunction with other commands based off the user behaviour listed above. \n",
    "\n",
    "                Once you've done so, remember to generate a user message that uses the command in a way that is consistent with the user behaviour listed above and is written in the imperative as an demand/request.\n",
    "\n",
    "                Favour Accronyms and short forms of words where possible (Eg. LCMs instead of Latent Consistency Models) and refrain from mentioning the specific application/extension in your query. Remember that you shouldn't mention the specific application/extension in your query.\n",
    "                \"\"\",\n",
    "            },\n",
    "        ],\n",
    "        context={\n",
    "            \"command\": command,\n",
    "            \"commands\": commands,\n",
    "            \"user_behaviour\": user_behaviour,\n",
    "            \"length\": query_length,\n",
    "        },\n",
    "        response_model=UserQuery,\n",
    "    )\n",
    "\n",
    "\n",
    "client = instructor.from_gemini(\n",
    "    genai.GenerativeModel(\n",
    "        \"models/gemini-1.5-flash-latest\",\n",
    "        generation_config=genai.GenerationConfig(\n",
    "            max_output_tokens=2000,\n",
    "            temperature=2,\n",
    "        ),\n",
    "    ),\n",
    "    use_async=True,\n",
    ")\n",
    "\n",
    "user_behaviour = \"\"\"\n",
    "Currently our user uses the following extensions for the following purposes\n",
    "\n",
    "- Confluence is used for company documentation, posts and notes. Note that we should use a post when it's a one time event or announcement (eg. Feature Release ) and a page when we'd like to keep it around for a longer period (Eg. Onboarding Document, Team Handbook, Incident Reports that we want to refer to down the line). Use filters for common queries/views that I need to refer to \n",
    "- Notion is used for planning trips, tracking expenses and other forms of long term planning. \n",
    "- Apple notes are used for quick notes that are more one-off. Examples of these notes includes recipes, shopping lists, notes about a movie we want to watch, things to note down etc, todo lists, reminders etc\n",
    "- Obsidian is used for personal notes and reflections on a wide range of topics (Eg. Classes we've taken, books we've read, notes about a lecture we went to etc)\n",
    "\n",
    "- Google Search is used for searching the web for information\n",
    "- iMessage is used for sending messages to friends and family. These messages are short informal and mostly about the weather, plans for the weekend, coordinating certain events, looking up appointments etc\n",
    "- Discord is used for gaming - so we'll use it for sending messages that are related to gaming and coordinating these gaming sessions with friends\n",
    "- Teams is used for sending messages for work stuff - we might use it to send messages to a channel or to a specific person in response to certain work related projects, requests, developments etc\n",
    "\n",
    "- Github is used for tracking pull requests, collaborating with other developers, running tests and deploying code (Eg. What's the update on the CI, is there a new release of the app, what's the status of the new feature branch, any new security vulnerabilities that we flagged, any new PRs to review etc)\n",
    "- We use Jira to track outstanding bugs and issues that users have reported and we need to work on. Often times we'll be tracking the issue in jira and then creating PRs in github to fix it\n",
    "\n",
    "When it comes to tracking things to be done, use apple notes to track these reminders. Jira is for official work projects.\n",
    "\"\"\"\n",
    "\n",
    "print(await generate_query(client, random.choice(commands), commands, user_behaviour))"
   ]
  },
  {
   "cell_type": "code",
   "execution_count": 19,
   "metadata": {},
   "outputs": [
    {
     "name": "stderr",
     "output_type": "stream",
     "text": [
      "100%|██████████| 5/5 [00:02<00:00,  1.92it/s]\n"
     ]
    }
   ],
   "source": [
    "from tqdm.asyncio import tqdm_asyncio as asyncio\n",
    "\n",
    "queries = await asyncio.gather(\n",
    "    *[\n",
    "        generate_query(client, random.choice(commands), commands, user_behaviour)\n",
    "        for _ in range(5)\n",
    "    ]\n",
    ")\n",
    "\n",
    "with open(\"queries.jsonl\", \"a\") as file:\n",
    "    for query in queries:\n",
    "        file.write(\n",
    "            json.dumps(\n",
    "                {\n",
    "                    \"query\": query.user_query,\n",
    "                    \"labels\": [command.key for command in query.commands],\n",
    "                }\n",
    "            )\n",
    "            + \"\\n\"\n",
    "        )\n"
   ]
  },
  {
   "cell_type": "markdown",
   "metadata": {},
   "source": [
    "## Providing Contrastive and Positive Examples\n",
    "\n",
    "Now that we've generated our initial list of queries, let's use our generated queries to help us generate better queries. \n",
    "\n",
    "In order to generate better queries, we'll also provide some examples of queries that use this specific command we've chosen and some examples of queries that don't. This in turn allows us to provide both positive and negative examples to our model so it sees a greater and more diverse set of examples.\n",
    "\n",
    "Let's start by reading in our list of existing queries and mapping each query to its relevant command. Then we'll write a function which randomly samples queries for other comamnds given a command. Then we'll use this specific function and update our previous query generation function to generate our new set of queries using these two different sets of queries.\n",
    "\n",
    "Let's see this in action below.\n"
   ]
  },
  {
   "cell_type": "code",
   "execution_count": 20,
   "metadata": {},
   "outputs": [],
   "source": [
    "import json\n",
    "\n",
    "\n",
    "def load_queries(commands: list[Command], query_path: str):\n",
    "    valid_commands = set(command.key for command in commands)\n",
    "    with open(query_path, \"r\") as f:\n",
    "        queries = [json.loads(line) for line in f]\n",
    "        for query in queries:\n",
    "            for label in query[\"labels\"]:\n",
    "                if label not in valid_commands:\n",
    "                    raise ValueError(f\"Command {label} not found in commands\")\n",
    "    return queries\n",
    "\n",
    "\n",
    "commands = load_commands(\"raw_commands.json\")\n",
    "queries = load_queries(commands, \"queries.jsonl\")"
   ]
  },
  {
   "cell_type": "code",
   "execution_count": 23,
   "metadata": {},
   "outputs": [
    {
     "data": {
      "text/html": [
       "<pre style=\"white-space:pre;overflow-x:auto;line-height:normal;font-family:Menlo,'DejaVu Sans Mono',consolas,'Courier New',monospace\"><span style=\"font-weight: bold\">[</span>\n",
       "    <span style=\"font-weight: bold\">{</span>\n",
       "        <span style=\"color: #008000; text-decoration-color: #008000\">'query'</span>: <span style=\"color: #008000; text-decoration-color: #008000\">'create a grocery list note with Milk, eggs, bread, and cheese, and pin it so that i can find it </span>\n",
       "<span style=\"color: #008000; text-decoration-color: #008000\">later.'</span>,\n",
       "        <span style=\"color: #008000; text-decoration-color: #008000\">'labels'</span>: <span style=\"font-weight: bold\">[</span><span style=\"color: #008000; text-decoration-color: #008000\">'apple-notes.new'</span>, <span style=\"color: #008000; text-decoration-color: #008000\">'apple-notes.menu-bar'</span><span style=\"font-weight: bold\">]</span>\n",
       "    <span style=\"font-weight: bold\">}</span>,\n",
       "    <span style=\"font-weight: bold\">{</span>\n",
       "        <span style=\"color: #008000; text-decoration-color: #008000\">'query'</span>: <span style=\"color: #008000; text-decoration-color: #008000\">'find weather taiwan december and generate a shopping list for it'</span>,\n",
       "        <span style=\"color: #008000; text-decoration-color: #008000\">'labels'</span>: <span style=\"font-weight: bold\">[</span><span style=\"color: #008000; text-decoration-color: #008000\">'google-search.index'</span>, <span style=\"color: #008000; text-decoration-color: #008000\">'apple-notes.new'</span>, <span style=\"color: #008000; text-decoration-color: #008000\">'apple-notes.add-text'</span><span style=\"font-weight: bold\">]</span>\n",
       "    <span style=\"font-weight: bold\">}</span>\n",
       "<span style=\"font-weight: bold\">]</span>\n",
       "</pre>\n"
      ],
      "text/plain": [
       "\u001b[1m[\u001b[0m\n",
       "    \u001b[1m{\u001b[0m\n",
       "        \u001b[32m'query'\u001b[0m: \u001b[32m'create a grocery list note with Milk, eggs, bread, and cheese, and pin it so that i can find it \u001b[0m\n",
       "\u001b[32mlater.'\u001b[0m,\n",
       "        \u001b[32m'labels'\u001b[0m: \u001b[1m[\u001b[0m\u001b[32m'apple-notes.new'\u001b[0m, \u001b[32m'apple-notes.menu-bar'\u001b[0m\u001b[1m]\u001b[0m\n",
       "    \u001b[1m}\u001b[0m,\n",
       "    \u001b[1m{\u001b[0m\n",
       "        \u001b[32m'query'\u001b[0m: \u001b[32m'find weather taiwan december and generate a shopping list for it'\u001b[0m,\n",
       "        \u001b[32m'labels'\u001b[0m: \u001b[1m[\u001b[0m\u001b[32m'google-search.index'\u001b[0m, \u001b[32m'apple-notes.new'\u001b[0m, \u001b[32m'apple-notes.add-text'\u001b[0m\u001b[1m]\u001b[0m\n",
       "    \u001b[1m}\u001b[0m\n",
       "\u001b[1m]\u001b[0m\n"
      ]
     },
     "metadata": {},
     "output_type": "display_data"
    }
   ],
   "source": [
    "command_to_query = {}\n",
    "for query in queries:\n",
    "    for command in query[\"labels\"]:\n",
    "        if command not in command_to_query:\n",
    "            command_to_query[command] = []\n",
    "        command_to_query[command].append(\n",
    "            {\n",
    "                \"query\": query[\"query\"],\n",
    "                \"labels\": query[\"labels\"],\n",
    "            }\n",
    "        )\n",
    "\n",
    "print(command_to_query['apple-notes.new'])"
   ]
  },
  {
   "cell_type": "code",
   "execution_count": 29,
   "metadata": {},
   "outputs": [
    {
     "data": {
      "text/html": [
       "<pre style=\"white-space:pre;overflow-x:auto;line-height:normal;font-family:Menlo,'DejaVu Sans Mono',consolas,'Courier New',monospace\"><span style=\"font-weight: bold\">[</span>\n",
       "    <span style=\"font-weight: bold\">{</span>\n",
       "        <span style=\"color: #008000; text-decoration-color: #008000\">'query'</span>: <span style=\"color: #008000; text-decoration-color: #008000\">'write up the feature launch announcement, include the beta testing feedback that we put in the </span>\n",
       "<span style=\"color: #008000; text-decoration-color: #008000\">issue and notify the product team'</span>,\n",
       "        <span style=\"color: #008000; text-decoration-color: #008000\">'labels'</span>: <span style=\"font-weight: bold\">[</span>\n",
       "            <span style=\"color: #008000; text-decoration-color: #008000\">'confluence-search.new-blog'</span>,\n",
       "            <span style=\"color: #008000; text-decoration-color: #008000\">'jira.search-issues'</span>,\n",
       "            <span style=\"color: #008000; text-decoration-color: #008000\">'microsoft-teams.findChat'</span>,\n",
       "            <span style=\"color: #008000; text-decoration-color: #008000\">'microsoft-teams.sendMessage'</span>\n",
       "        <span style=\"font-weight: bold\">]</span>\n",
       "    <span style=\"font-weight: bold\">}</span>,\n",
       "    <span style=\"font-weight: bold\">{</span><span style=\"color: #008000; text-decoration-color: #008000\">'query'</span>: <span style=\"color: #008000; text-decoration-color: #008000\">'did anyone review my frontend PR from yesterday?'</span>, <span style=\"color: #008000; text-decoration-color: #008000\">'labels'</span>: <span style=\"font-weight: bold\">[</span><span style=\"color: #008000; text-decoration-color: #008000\">'github.my-pull-requests'</span><span style=\"font-weight: bold\">]}</span>\n",
       "<span style=\"font-weight: bold\">]</span>\n",
       "</pre>\n"
      ],
      "text/plain": [
       "\u001b[1m[\u001b[0m\n",
       "    \u001b[1m{\u001b[0m\n",
       "        \u001b[32m'query'\u001b[0m: \u001b[32m'write up the feature launch announcement, include the beta testing feedback that we put in the \u001b[0m\n",
       "\u001b[32missue and notify the product team'\u001b[0m,\n",
       "        \u001b[32m'labels'\u001b[0m: \u001b[1m[\u001b[0m\n",
       "            \u001b[32m'confluence-search.new-blog'\u001b[0m,\n",
       "            \u001b[32m'jira.search-issues'\u001b[0m,\n",
       "            \u001b[32m'microsoft-teams.findChat'\u001b[0m,\n",
       "            \u001b[32m'microsoft-teams.sendMessage'\u001b[0m\n",
       "        \u001b[1m]\u001b[0m\n",
       "    \u001b[1m}\u001b[0m,\n",
       "    \u001b[1m{\u001b[0m\u001b[32m'query'\u001b[0m: \u001b[32m'did anyone review my frontend PR from yesterday?'\u001b[0m, \u001b[32m'labels'\u001b[0m: \u001b[1m[\u001b[0m\u001b[32m'github.my-pull-requests'\u001b[0m\u001b[1m]\u001b[0m\u001b[1m}\u001b[0m\n",
       "\u001b[1m]\u001b[0m\n"
      ]
     },
     "metadata": {},
     "output_type": "display_data"
    }
   ],
   "source": [
    "def get_contrastive_examples(command: Command, command_to_query: dict, n_examples: int):\n",
    "    command_queries = (\n",
    "        set([item[\"query\"] for item in command_to_query[command.key]])\n",
    "        if command.key in command_to_query\n",
    "        else set([])\n",
    "    )\n",
    "    seen_contrastive_queries = set([])\n",
    "    contrastive_queries = []\n",
    "    for command in command_to_query:\n",
    "        for query in command_to_query[command]:\n",
    "            if query[\"query\"] not in command_queries:\n",
    "                contrastive_queries.append(query)\n",
    "                seen_contrastive_queries.add(query[\"query\"])\n",
    "\n",
    "    return random.sample(contrastive_queries, k=n_examples)\n",
    "\n",
    "chosen_command = Command(command_description='Create a new note', extension_name='apple-notes', command_name='new-note')\n",
    "print(get_contrastive_examples(chosen_command, command_to_query, 2))"
   ]
  },
  {
   "cell_type": "markdown",
   "metadata": {},
   "source": [
    "We can see that with this specific function, we're able to provide queries that don't use the `apple-notes.new-note` command. This helps the model gain more granular context about the command how it different from other commands that it might be able to call.\n",
    "\n",
    "For instance, we can clearly see that `microsoft-teams.findChat` and `microsoft-teams.sendMessage` wouldn't likely be called with the `apple-notes.new-note` command which deals with more personal notes rather than the work related content."
   ]
  },
  {
   "cell_type": "code",
   "execution_count": 251,
   "metadata": {},
   "outputs": [
    {
     "data": {
      "text/html": [
       "<pre style=\"white-space:pre;overflow-x:auto;line-height:normal;font-family:Menlo,'DejaVu Sans Mono',consolas,'Courier New',monospace\"><span style=\"color: #800080; text-decoration-color: #800080; font-weight: bold\">UserQuery</span><span style=\"font-weight: bold\">(</span>\n",
       "    <span style=\"color: #808000; text-decoration-color: #808000\">chain_of_thought</span>=<span style=\"color: #008000; text-decoration-color: #008000\">\"The user wants to set their Teams status and potentially interact with Jira. The user's </span>\n",
       "<span style=\"color: #008000; text-decoration-color: #008000\">behavior suggests they use Teams for work communication, Jira for issue tracking, and are comfortable using short </span>\n",
       "<span style=\"color: #008000; text-decoration-color: #008000\">forms and acronyms. I should combine setting the status with another related work action in Jira. I will use </span>\n",
       "<span style=\"color: #008000; text-decoration-color: #008000\">'Working on bug fix' as the status and combine it with opening the relevant Jira issue. I will also make sure to </span>\n",
       "<span style=\"color: #008000; text-decoration-color: #008000\">use realistic details in the query.\"</span>,\n",
       "    <span style=\"color: #808000; text-decoration-color: #808000\">user_query</span>=<span style=\"color: #008000; text-decoration-color: #008000\">\"Set status to 'Working on bug fix', open jira 42987\"</span>,\n",
       "    <span style=\"color: #808000; text-decoration-color: #808000\">commands</span>=<span style=\"font-weight: bold\">[</span>\n",
       "        <span style=\"color: #800080; text-decoration-color: #800080; font-weight: bold\">UserCommand</span><span style=\"font-weight: bold\">(</span>\n",
       "            <span style=\"color: #808000; text-decoration-color: #808000\">key</span>=<span style=\"color: #008000; text-decoration-color: #008000\">'microsoft-teams.setStatus'</span>,\n",
       "            <span style=\"color: #808000; text-decoration-color: #808000\">arguments</span>=<span style=\"font-weight: bold\">[</span><span style=\"color: #800080; text-decoration-color: #800080; font-weight: bold\">UserCommandArgument</span><span style=\"font-weight: bold\">(</span><span style=\"color: #808000; text-decoration-color: #808000\">title</span>=<span style=\"color: #008000; text-decoration-color: #008000\">'status'</span>, <span style=\"color: #808000; text-decoration-color: #808000\">value</span>=<span style=\"color: #008000; text-decoration-color: #008000\">'Working on bug fix'</span><span style=\"font-weight: bold\">)]</span>\n",
       "        <span style=\"font-weight: bold\">)</span>,\n",
       "        <span style=\"color: #800080; text-decoration-color: #800080; font-weight: bold\">UserCommand</span><span style=\"font-weight: bold\">(</span><span style=\"color: #808000; text-decoration-color: #808000\">key</span>=<span style=\"color: #008000; text-decoration-color: #008000\">'jira.open-issues'</span>, <span style=\"color: #808000; text-decoration-color: #808000\">arguments</span>=<span style=\"font-weight: bold\">[</span><span style=\"color: #800080; text-decoration-color: #800080; font-weight: bold\">UserCommandArgument</span><span style=\"font-weight: bold\">(</span><span style=\"color: #808000; text-decoration-color: #808000\">title</span>=<span style=\"color: #008000; text-decoration-color: #008000\">'issue'</span>, <span style=\"color: #808000; text-decoration-color: #808000\">value</span>=<span style=\"color: #008000; text-decoration-color: #008000\">'jira 42987'</span><span style=\"font-weight: bold\">)])</span>\n",
       "    <span style=\"font-weight: bold\">]</span>\n",
       "<span style=\"font-weight: bold\">)</span>\n",
       "</pre>\n"
      ],
      "text/plain": [
       "\u001b[1;35mUserQuery\u001b[0m\u001b[1m(\u001b[0m\n",
       "    \u001b[33mchain_of_thought\u001b[0m=\u001b[32m\"The\u001b[0m\u001b[32m user wants to set their Teams status and potentially interact with Jira. The user's \u001b[0m\n",
       "\u001b[32mbehavior suggests they use Teams for work communication, Jira for issue tracking, and are comfortable using short \u001b[0m\n",
       "\u001b[32mforms and acronyms. I should combine setting the status with another related work action in Jira. I will use \u001b[0m\n",
       "\u001b[32m'Working on bug fix' as the status and combine it with opening the relevant Jira issue. I will also make sure to \u001b[0m\n",
       "\u001b[32muse realistic details in the query.\"\u001b[0m,\n",
       "    \u001b[33muser_query\u001b[0m=\u001b[32m\"Set\u001b[0m\u001b[32m status to 'Working on bug fix', open jira 42987\"\u001b[0m,\n",
       "    \u001b[33mcommands\u001b[0m=\u001b[1m[\u001b[0m\n",
       "        \u001b[1;35mUserCommand\u001b[0m\u001b[1m(\u001b[0m\n",
       "            \u001b[33mkey\u001b[0m=\u001b[32m'microsoft-teams.setStatus'\u001b[0m,\n",
       "            \u001b[33marguments\u001b[0m=\u001b[1m[\u001b[0m\u001b[1;35mUserCommandArgument\u001b[0m\u001b[1m(\u001b[0m\u001b[33mtitle\u001b[0m=\u001b[32m'status'\u001b[0m, \u001b[33mvalue\u001b[0m=\u001b[32m'Working on bug fix'\u001b[0m\u001b[1m)\u001b[0m\u001b[1m]\u001b[0m\n",
       "        \u001b[1m)\u001b[0m,\n",
       "        \u001b[1;35mUserCommand\u001b[0m\u001b[1m(\u001b[0m\u001b[33mkey\u001b[0m=\u001b[32m'jira.open-issues'\u001b[0m, \u001b[33marguments\u001b[0m=\u001b[1m[\u001b[0m\u001b[1;35mUserCommandArgument\u001b[0m\u001b[1m(\u001b[0m\u001b[33mtitle\u001b[0m=\u001b[32m'issue'\u001b[0m, \u001b[33mvalue\u001b[0m=\u001b[32m'jira 42987'\u001b[0m\u001b[1m)\u001b[0m\u001b[1m]\u001b[0m\u001b[1m)\u001b[0m\n",
       "    \u001b[1m]\u001b[0m\n",
       "\u001b[1m)\u001b[0m\n"
      ]
     },
     "metadata": {},
     "output_type": "display_data"
    }
   ],
   "source": [
    "async def generate_new_query_with_examples(\n",
    "    client: instructor.AsyncInstructor,\n",
    "    command: Command,\n",
    "    commands: list[Command],\n",
    "    command_to_query: dict,\n",
    "    user_behaviour: str,\n",
    "    n_examples: int,\n",
    "):\n",
    "    contrastive_queries = get_contrastive_examples(\n",
    "        command, command_to_query, n_examples\n",
    "    )\n",
    "    if command.key in command_to_query:\n",
    "        command_queries = (\n",
    "            command_to_query[command.key]\n",
    "            if len(command_to_query[command.key]) <= 3\n",
    "            else random.sample(command_to_query[command.key], k=3)\n",
    "        )\n",
    "    else:\n",
    "        command_queries = []\n",
    "\n",
    "    return await client.chat.completions.create(\n",
    "        messages=[\n",
    "            {\n",
    "                \"role\": \"system\",\n",
    "                \"content\": \"\"\"\n",
    "                Generate a hypothetical user message that is about {{ length }} uses the following command and at most 2 more commands from the list of commands below. Make sure to use the specific command name as the key for the command.\n",
    "\n",
    "                command_name: {{command.key}}    \n",
    "                description: {{command.command_description}}\n",
    "\n",
    "\n",
    "                {% if positive_examples|length > 0 %}\n",
    "                Here are some examples of how this command is used\n",
    "                \n",
    "                <positive_examples>\n",
    "                {% for example in positive_examples %}\n",
    "                    <positive_example>\n",
    "                        <query>{{ example[\"query\"] }}</query>\n",
    "                        <labels>{{ example[\"labels\"] }}</labels>\n",
    "                    </positive_example>\n",
    "                {% endfor %}\n",
    "                </positive_examples>\n",
    "                {% endif %}\n",
    "\n",
    "                Here are some examples of how other commands that don't use this specific command are used\n",
    "\n",
    "                <negative_examples>\n",
    "                {% for example in negative_examples %}\n",
    "                <negative_example>\n",
    "                    <query>{{ example[\"query\"] }}</query>\n",
    "                    <labels>{{ example[\"labels\"] }}</labels>\n",
    "                </negative_example>\n",
    "                {% endfor %}\n",
    "                </negative_examples>\n",
    "\n",
    "                Here are a list of other commands that you can use in conjunction with the above command \n",
    "\n",
    "                <commands>\n",
    "                {% for command in commands %}\n",
    "                <command>\n",
    "                    <command_name>{{ command.key }}</command_name>\n",
    "                    <command_description>{{ command.command_description }}</command_description>\n",
    "                </command>\n",
    "                {% endfor %}\n",
    "                </commands>\n",
    "\n",
    "                Here is a rough description of how our user uses the application\n",
    "\n",
    "                <user_behaviour>\n",
    "                {{ user_behaviour }}\n",
    "                </user_behaviour>\n",
    "\n",
    "                \n",
    "\n",
    "                Think carefully about what this specific command is used for, how it differs from other commands available in the same extension and other commands in the application. Lastly consider about how we could use this command in conjunction with other commands based off the user behaviour listed above. \n",
    "\n",
    "                Once you've done so, remember to generate a user message that uses the command in a way that is consistent with the user behaviour listed above and is written in the imperative as an demand/request. \n",
    "\n",
    "                Favour Accronyms and short forms of words where possible (Eg. LCMs instead of Latent Consistency Models) and refrain from mentioning the specific application/extension in your query. Commands should be written in the imperative as an demand/request and try to combine multiple commands where possible in a natural way that would require context to understand\n",
    "\n",
    "                Invent and add specific and realistic details to the query where possible to make it more specific and interesting. \n",
    "\n",
    "                Here are some sample details that you should avoid reproducing\n",
    "                <bad details>\n",
    "                repo 123\n",
    "                jira #123\n",
    "                </bad details>\n",
    "\n",
    "                Here is an example of a good detail - it's a feasible detail that would be used in a real world scenario\n",
    "                <good details>\n",
    "                supabase/go-sdk\n",
    "                jira 10023\n",
    "                </good details>\n",
    "\n",
    "                Do not copy these details, instead generate your own realistic details that would be used in a real world scenario\n",
    "                \"\"\",\n",
    "            },\n",
    "        ],\n",
    "        response_model=UserQuery,\n",
    "        context={\n",
    "            \"command\": command,\n",
    "            \"commands\": commands,\n",
    "            \"user_behaviour\": user_behaviour,\n",
    "            \"length\": random.randint(10, 30),\n",
    "            \"positive_examples\": command_queries,\n",
    "            \"negative_examples\": contrastive_queries,\n",
    "        },\n",
    "    )\n",
    "\n",
    "\n",
    "client = instructor.from_gemini(\n",
    "    genai.GenerativeModel(\"models/gemini-2.0-flash-exp\"), use_async=True\n",
    ")\n",
    "print(\n",
    "    await generate_new_query_with_examples(\n",
    "        client, random.choice(commands), commands, command_to_query, user_behaviour, 4\n",
    "    )\n",
    ")"
   ]
  },
  {
   "cell_type": "markdown",
   "metadata": {},
   "source": [
    "Let's now generate a few more queries using this sampling that we've implemented above."
   ]
  },
  {
   "cell_type": "code",
   "execution_count": 320,
   "metadata": {},
   "outputs": [
    {
     "name": "stderr",
     "output_type": "stream",
     "text": [
      "100%|██████████| 5/5 [00:04<00:00,  1.25it/s]\n"
     ]
    }
   ],
   "source": [
    "filtered_commands = [\n",
    "    command for command in commands if command.extension_name in (\"confluence-search\")\n",
    "]\n",
    "coros = [\n",
    "    generate_new_query_with_examples(\n",
    "        client, random.choice(commands), commands, command_to_query, user_behaviour, 4\n",
    "    )\n",
    "    for _ in range(5)\n",
    "]\n",
    "queries = await asyncio.gather(*coros)\n",
    "\n",
    "client = instructor.from_gemini(\n",
    "    genai.GenerativeModel(\"models/gemini-2.0-flash-exp\"), use_async=True\n",
    ")\n",
    "with open(\"queries.jsonl\", \"a\") as file:\n",
    "    for query in queries:\n",
    "        file.write(\n",
    "            json.dumps(\n",
    "                {\n",
    "                    \"query\": query.user_query,\n",
    "                    \"labels\": [command.key for command in query.commands],\n",
    "                }\n",
    "            )\n",
    "            + \"\\n\"\n",
    "        )\n"
   ]
  },
  {
   "cell_type": "markdown",
   "metadata": {},
   "source": [
    "# Benchmarking\n",
    "\n",
    "Now that we've generated our initial list of queries, let's see how our model performs when we only provide the command name and description in it's context.\n",
    "\n",
    "We'll use the functions we defined in our previous notebook to evaluate the performance of our model and establish our initial precision and recall baselines. We'll use `braintrust` here to store and log the performance of our model."
   ]
  },
  {
   "cell_type": "code",
   "execution_count": 94,
   "metadata": {},
   "outputs": [
    {
     "data": {
      "text/html": [
       "<pre style=\"white-space:pre;overflow-x:auto;line-height:normal;font-family:Menlo,'DejaVu Sans Mono',consolas,'Courier New',monospace\"><span style=\"font-weight: bold\">[</span>\n",
       "    <span style=\"color: #800080; text-decoration-color: #800080; font-weight: bold\">UserCommand</span><span style=\"font-weight: bold\">(</span>\n",
       "        <span style=\"color: #808000; text-decoration-color: #808000\">key</span>=<span style=\"color: #008000; text-decoration-color: #008000\">'imessage.sendMessage'</span>,\n",
       "        <span style=\"color: #808000; text-decoration-color: #808000\">arguments</span>=<span style=\"font-weight: bold\">[</span>\n",
       "            <span style=\"color: #800080; text-decoration-color: #800080; font-weight: bold\">UserCommandArgument</span><span style=\"font-weight: bold\">(</span><span style=\"color: #808000; text-decoration-color: #808000\">title</span>=<span style=\"color: #008000; text-decoration-color: #008000\">'To'</span>, <span style=\"color: #808000; text-decoration-color: #808000\">value</span>=<span style=\"color: #008000; text-decoration-color: #008000\">'bobby'</span><span style=\"font-weight: bold\">)</span>,\n",
       "            <span style=\"color: #800080; text-decoration-color: #800080; font-weight: bold\">UserCommandArgument</span><span style=\"font-weight: bold\">(</span><span style=\"color: #808000; text-decoration-color: #808000\">title</span>=<span style=\"color: #008000; text-decoration-color: #008000\">'Message'</span>, <span style=\"color: #808000; text-decoration-color: #808000\">value</span>=<span style=\"color: #008000; text-decoration-color: #008000\">\"I'll be late for spin class later\"</span><span style=\"font-weight: bold\">)</span>\n",
       "        <span style=\"font-weight: bold\">]</span>\n",
       "    <span style=\"font-weight: bold\">)</span>\n",
       "<span style=\"font-weight: bold\">]</span>\n",
       "</pre>\n"
      ],
      "text/plain": [
       "\u001b[1m[\u001b[0m\n",
       "    \u001b[1;35mUserCommand\u001b[0m\u001b[1m(\u001b[0m\n",
       "        \u001b[33mkey\u001b[0m=\u001b[32m'imessage.sendMessage'\u001b[0m,\n",
       "        \u001b[33marguments\u001b[0m=\u001b[1m[\u001b[0m\n",
       "            \u001b[1;35mUserCommandArgument\u001b[0m\u001b[1m(\u001b[0m\u001b[33mtitle\u001b[0m=\u001b[32m'To'\u001b[0m, \u001b[33mvalue\u001b[0m=\u001b[32m'bobby'\u001b[0m\u001b[1m)\u001b[0m,\n",
       "            \u001b[1;35mUserCommandArgument\u001b[0m\u001b[1m(\u001b[0m\u001b[33mtitle\u001b[0m=\u001b[32m'Message'\u001b[0m, \u001b[33mvalue\u001b[0m=\u001b[32m\"I\u001b[0m\u001b[32m'll be late for spin class later\"\u001b[0m\u001b[1m)\u001b[0m\n",
       "        \u001b[1m]\u001b[0m\n",
       "    \u001b[1m)\u001b[0m\n",
       "\u001b[1m]\u001b[0m\n"
      ]
     },
     "metadata": {},
     "output_type": "display_data"
    }
   ],
   "source": [
    "async def generate_commands(\n",
    "    query: str, client: instructor.AsyncInstructor, commands: list[Command]\n",
    "):\n",
    "    response = await client.chat.completions.create(\n",
    "        messages=[\n",
    "            {\n",
    "                \"role\": \"system\",\n",
    "                \"content\": \"\"\"\n",
    "                You are a helpful assistant that can execute commands in response to a user query. You have access to the following commands:\n",
    "                \n",
    "                <commands>\n",
    "                {% for command in commands %}\n",
    "                - {{ command.key }} : {{ command.command_description }}\n",
    "                {% endfor %}\n",
    "                </commands>\n",
    "\n",
    "                You must select at least one command to be called.\n",
    "                \"\"\",\n",
    "            },\n",
    "            {\n",
    "                \"role\": \"user\",\n",
    "                \"content\": query,\n",
    "            },\n",
    "        ],\n",
    "        response_model=SelectedCommands,\n",
    "        context={\"commands\": commands},\n",
    "    )\n",
    "    return response.selected_commands\n",
    "\n",
    "\n",
    "client = instructor.from_gemini(\n",
    "    genai.GenerativeModel(\"models/gemini-1.5-flash-latest\"), use_async=True\n",
    ")\n",
    "\n",
    "commands = load_commands(\"raw_commands.json\")\n",
    "resp = await generate_commands(\n",
    "    \"send a message to bobby that I'll be late for spin class later\", client, commands\n",
    ")\n",
    "\n",
    "print(resp)"
   ]
  },
  {
   "cell_type": "code",
   "execution_count": 96,
   "metadata": {},
   "outputs": [
    {
     "name": "stderr",
     "output_type": "stream",
     "text": [
      "I0000 00:00:1736768570.737372   20203 fork_posix.cc:75] Other threads are currently calling into gRPC, skipping fork() handlers\n",
      "I0000 00:00:1736768570.764139   20203 fork_posix.cc:75] Other threads are currently calling into gRPC, skipping fork() handlers\n",
      "I0000 00:00:1736768570.778701   20203 fork_posix.cc:75] Other threads are currently calling into gRPC, skipping fork() handlers\n",
      "I0000 00:00:1736768570.789453   20203 fork_posix.cc:75] Other threads are currently calling into gRPC, skipping fork() handlers\n",
      "I0000 00:00:1736768570.801140   20203 fork_posix.cc:75] Other threads are currently calling into gRPC, skipping fork() handlers\n",
      "I0000 00:00:1736768570.811842   20203 fork_posix.cc:75] Other threads are currently calling into gRPC, skipping fork() handlers\n",
      "I0000 00:00:1736768570.820153   20203 fork_posix.cc:75] Other threads are currently calling into gRPC, skipping fork() handlers\n",
      "Experiment week-6-1736768572 is running at https://www.braintrust.dev/app/567/p/function-calling/experiments/week-6-1736768572\n",
      "function-calling (data): 52it [00:00, 44905.05it/s]\n"
     ]
    },
    {
     "data": {
      "application/vnd.jupyter.widget-view+json": {
       "model_id": "fac402899bc0451b931cea61dd0e9051",
       "version_major": 2,
       "version_minor": 0
      },
      "text/plain": [
       "function-calling (tasks):   0%|          | 0/52 [00:00<?, ?it/s]"
      ]
     },
     "metadata": {},
     "output_type": "display_data"
    },
    {
     "name": "stdout",
     "output_type": "stream",
     "text": [
      "\n",
      "=========================SUMMARY=========================\n",
      "week-6-1736768572 compared to week-6-1736768540:\n",
      "35.90% (-27.88%) 'recall'    score\t(3 improvements, 25 regressions)\n",
      "44.23% (-18.62%) 'precision' score\t(7 improvements, 18 regressions)\n",
      "\n",
      "1736768572.34s start\n",
      "1736768574.57s end\n",
      "2.22s (+50.08%) 'duration'\t(5 improvements, 47 regressions)\n",
      "\n",
      "See results for week-6-1736768572 at https://www.braintrust.dev/app/567/p/function-calling/experiments/week-6-1736768572\n"
     ]
    }
   ],
   "source": [
    "from braintrust import Score, Eval\n",
    "from helpers import calculate_precision, calculate_recall\n",
    "\n",
    "\n",
    "def evaluate_braintrust(input, output, **kwargs):\n",
    "    return [\n",
    "        Score(\n",
    "            name=\"precision\",\n",
    "            score=calculate_precision(output, kwargs[\"expected\"]),\n",
    "        ),\n",
    "        Score(\n",
    "            name=\"recall\",\n",
    "            score=calculate_recall(output, kwargs[\"expected\"]),\n",
    "        ),\n",
    "    ]\n",
    "\n",
    "\n",
    "client = instructor.from_gemini(\n",
    "    genai.GenerativeModel(\"models/gemini-1.5-flash-latest\"), use_async=True\n",
    ")\n",
    "commands = load_commands(\"raw_commands.json\")\n",
    "queries = load_queries(commands, \"queries.jsonl\")\n",
    "\n",
    "async def task(query, hooks):\n",
    "    resp = await generate_commands(query, client, commands)\n",
    "    return [item.key for item in resp]\n",
    "\n",
    "results = await Eval(\n",
    "    \"function-calling\",\n",
    "    data=[\n",
    "        {\n",
    "            \"input\": row[\"query\"],\n",
    "            \"expected\": row[\"labels\"],\n",
    "        }\n",
    "        for row in queries\n",
    "    ],\n",
    "    task=task,\n",
    "    scores=[evaluate_braintrust],\n",
    ")"
   ]
  },
  {
   "cell_type": "markdown",
   "metadata": {},
   "source": [
    "Let's now analyse the results that we've obtained and see what our model struggles with. We can see that we've got a low recall of 0.34 and a low precision of around 0.45\n",
    "\n",
    "Are there specific commands that our model struggles with? Let's see if we can find out."
   ]
  },
  {
   "cell_type": "code",
   "execution_count": 53,
   "metadata": {},
   "outputs": [],
   "source": [
    "import pandas as pd\n",
    "\n",
    "\n",
    "df = pd.DataFrame(\n",
    "    [\n",
    "        {\n",
    "            \"query\": row.input,\n",
    "            \"expected\": row.expected,\n",
    "            \"output\": row.output,\n",
    "        }\n",
    "        for row in results.results\n",
    "    ]\n",
    ")\n",
    "\n",
    "# Get all unique tools\n",
    "all_tools = set()\n",
    "for tools in df[\"expected\"] + df[\"output\"]:\n",
    "    all_tools.update(tools)"
   ]
  },
  {
   "cell_type": "code",
   "execution_count": 85,
   "metadata": {},
   "outputs": [
    {
     "data": {
      "text/html": [
       "<div>\n",
       "<style scoped>\n",
       "    .dataframe tbody tr th:only-of-type {\n",
       "        vertical-align: middle;\n",
       "    }\n",
       "\n",
       "    .dataframe tbody tr th {\n",
       "        vertical-align: top;\n",
       "    }\n",
       "\n",
       "    .dataframe thead th {\n",
       "        text-align: right;\n",
       "    }\n",
       "</style>\n",
       "<table border=\"1\" class=\"dataframe\">\n",
       "  <thead>\n",
       "    <tr style=\"text-align: right;\">\n",
       "      <th></th>\n",
       "      <th>expected_count</th>\n",
       "      <th>actual_count</th>\n",
       "      <th>precision</th>\n",
       "      <th>recall</th>\n",
       "    </tr>\n",
       "  </thead>\n",
       "  <tbody>\n",
       "    <tr>\n",
       "      <th>jira.recently-updated-issues</th>\n",
       "      <td>1</td>\n",
       "      <td>0.0</td>\n",
       "      <td>0.00</td>\n",
       "      <td>0.00</td>\n",
       "    </tr>\n",
       "    <tr>\n",
       "      <th>imessage.findChat</th>\n",
       "      <td>5</td>\n",
       "      <td>0.0</td>\n",
       "      <td>0.00</td>\n",
       "      <td>0.00</td>\n",
       "    </tr>\n",
       "    <tr>\n",
       "      <th>notion.search-page</th>\n",
       "      <td>1</td>\n",
       "      <td>0.0</td>\n",
       "      <td>0.00</td>\n",
       "      <td>0.00</td>\n",
       "    </tr>\n",
       "    <tr>\n",
       "      <th>notion.create-database-page</th>\n",
       "      <td>1</td>\n",
       "      <td>0.0</td>\n",
       "      <td>0.00</td>\n",
       "      <td>0.00</td>\n",
       "    </tr>\n",
       "    <tr>\n",
       "      <th>confluence-search.add-text</th>\n",
       "      <td>2</td>\n",
       "      <td>0.0</td>\n",
       "      <td>0.00</td>\n",
       "      <td>0.00</td>\n",
       "    </tr>\n",
       "    <tr>\n",
       "      <th>confluence-search.go</th>\n",
       "      <td>1</td>\n",
       "      <td>0.0</td>\n",
       "      <td>0.00</td>\n",
       "      <td>0.00</td>\n",
       "    </tr>\n",
       "    <tr>\n",
       "      <th>confluence-search.new-blog</th>\n",
       "      <td>2</td>\n",
       "      <td>0.0</td>\n",
       "      <td>0.00</td>\n",
       "      <td>0.00</td>\n",
       "    </tr>\n",
       "    <tr>\n",
       "      <th>confluence-search.new-page</th>\n",
       "      <td>1</td>\n",
       "      <td>0.0</td>\n",
       "      <td>0.00</td>\n",
       "      <td>0.00</td>\n",
       "    </tr>\n",
       "    <tr>\n",
       "      <th>confluence-search.search</th>\n",
       "      <td>3</td>\n",
       "      <td>0.0</td>\n",
       "      <td>0.00</td>\n",
       "      <td>0.00</td>\n",
       "    </tr>\n",
       "    <tr>\n",
       "      <th>obsidian.searchMedia</th>\n",
       "      <td>3</td>\n",
       "      <td>0.0</td>\n",
       "      <td>0.00</td>\n",
       "      <td>0.00</td>\n",
       "    </tr>\n",
       "    <tr>\n",
       "      <th>github.unread-notifications</th>\n",
       "      <td>3</td>\n",
       "      <td>0.0</td>\n",
       "      <td>0.00</td>\n",
       "      <td>0.00</td>\n",
       "    </tr>\n",
       "    <tr>\n",
       "      <th>github.notifications</th>\n",
       "      <td>2</td>\n",
       "      <td>0.0</td>\n",
       "      <td>0.00</td>\n",
       "      <td>0.00</td>\n",
       "    </tr>\n",
       "    <tr>\n",
       "      <th>discord.unreadMessages</th>\n",
       "      <td>1</td>\n",
       "      <td>0.0</td>\n",
       "      <td>0.00</td>\n",
       "      <td>0.00</td>\n",
       "    </tr>\n",
       "    <tr>\n",
       "      <th>microsoft-teams.findChat</th>\n",
       "      <td>12</td>\n",
       "      <td>1.0</td>\n",
       "      <td>0.08</td>\n",
       "      <td>0.08</td>\n",
       "    </tr>\n",
       "    <tr>\n",
       "      <th>apple-notes.add-text</th>\n",
       "      <td>6</td>\n",
       "      <td>1.0</td>\n",
       "      <td>0.17</td>\n",
       "      <td>0.17</td>\n",
       "    </tr>\n",
       "  </tbody>\n",
       "</table>\n",
       "</div>"
      ],
      "text/plain": [
       "                              expected_count  actual_count  precision  recall\n",
       "jira.recently-updated-issues               1           0.0       0.00    0.00\n",
       "imessage.findChat                          5           0.0       0.00    0.00\n",
       "notion.search-page                         1           0.0       0.00    0.00\n",
       "notion.create-database-page                1           0.0       0.00    0.00\n",
       "confluence-search.add-text                 2           0.0       0.00    0.00\n",
       "confluence-search.go                       1           0.0       0.00    0.00\n",
       "confluence-search.new-blog                 2           0.0       0.00    0.00\n",
       "confluence-search.new-page                 1           0.0       0.00    0.00\n",
       "confluence-search.search                   3           0.0       0.00    0.00\n",
       "obsidian.searchMedia                       3           0.0       0.00    0.00\n",
       "github.unread-notifications                3           0.0       0.00    0.00\n",
       "github.notifications                       2           0.0       0.00    0.00\n",
       "discord.unreadMessages                     1           0.0       0.00    0.00\n",
       "microsoft-teams.findChat                  12           1.0       0.08    0.08\n",
       "apple-notes.add-text                       6           1.0       0.17    0.17"
      ]
     },
     "execution_count": 85,
     "metadata": {},
     "output_type": "execute_result"
    }
   ],
   "source": [
    "# Group by tools and get counts\n",
    "tool_df = pd.DataFrame({\n",
    "    'expected_count': df['expected'].explode().value_counts(),\n",
    "    'actual_count': df['output'].explode()[df['output'].explode().isin(df['expected'].explode().unique())].value_counts()\n",
    "}).fillna(0)\n",
    "\n",
    "# Calculate precision and recall\n",
    "tool_df['precision'] = round(tool_df['actual_count'] / tool_df['expected_count'], 2)\n",
    "tool_df['recall'] = round(tool_df['actual_count'] / tool_df['expected_count'], 2)\n",
    "\n",
    "# Sort by recall ascending\n",
    "tool_df = tool_df.sort_values('recall', ascending=True)\n",
    "tool_df.head(15)"
   ]
  },
  {
   "cell_type": "markdown",
   "metadata": {},
   "source": [
    "We can see that there are a few commands that are not performing well. Let's look at a few of these commands and try to understand what's going on. In this case, we'll look at the following commands\n",
    "\n",
    "1. `imessage.findChat`\n",
    "2. `obsidian.searchMedia` \n",
    "3. `confluence-search.search`\n"
   ]
  },
  {
   "cell_type": "code",
   "execution_count": 100,
   "metadata": {},
   "outputs": [
    {
     "data": {
      "text/html": [
       "<pre style=\"white-space:pre;overflow-x:auto;line-height:normal;font-family:Menlo,'DejaVu Sans Mono',consolas,'Courier New',monospace\">Query: Tell mum i'll be back for dinner around 7pm\n",
       "\n",
       "Expected: <span style=\"font-weight: bold\">[</span><span style=\"color: #008000; text-decoration-color: #008000\">'imessage.findChat'</span>, <span style=\"color: #008000; text-decoration-color: #008000\">'imessage.sendMessage'</span><span style=\"font-weight: bold\">]</span>\n",
       "\n",
       "Output: <span style=\"font-weight: bold\">[</span><span style=\"color: #008000; text-decoration-color: #008000\">'imessage.sendMessage'</span><span style=\"font-weight: bold\">]</span>\n",
       "\n",
       "--------------------------------------------------------------------------------\n",
       "\n",
       "</pre>\n"
      ],
      "text/plain": [
       "Query: Tell mum i'll be back for dinner around 7pm\n",
       "\n",
       "Expected: \u001b[1m[\u001b[0m\u001b[32m'imessage.findChat'\u001b[0m, \u001b[32m'imessage.sendMessage'\u001b[0m\u001b[1m]\u001b[0m\n",
       "\n",
       "Output: \u001b[1m[\u001b[0m\u001b[32m'imessage.sendMessage'\u001b[0m\u001b[1m]\u001b[0m\n",
       "\n",
       "--------------------------------------------------------------------------------\n",
       "\n"
      ]
     },
     "metadata": {},
     "output_type": "display_data"
    },
    {
     "data": {
      "text/html": [
       "<pre style=\"white-space:pre;overflow-x:auto;line-height:normal;font-family:Menlo,'DejaVu Sans Mono',consolas,'Courier New',monospace\">Query: pull up munich plans, send mike the airbnb link to the accoms on the 22nd\n",
       "\n",
       "Expected: <span style=\"font-weight: bold\">[</span><span style=\"color: #008000; text-decoration-color: #008000\">'notion.search-page'</span>, <span style=\"color: #008000; text-decoration-color: #008000\">'imessage.findChat'</span>, <span style=\"color: #008000; text-decoration-color: #008000\">'imessage.sendMessage'</span><span style=\"font-weight: bold\">]</span>\n",
       "\n",
       "Output: <span style=\"font-weight: bold\">[</span><span style=\"color: #008000; text-decoration-color: #008000\">'google-search.index'</span>, <span style=\"color: #008000; text-decoration-color: #008000\">'imessage.sendMessage'</span><span style=\"font-weight: bold\">]</span>\n",
       "\n",
       "--------------------------------------------------------------------------------\n",
       "\n",
       "</pre>\n"
      ],
      "text/plain": [
       "Query: pull up munich plans, send mike the airbnb link to the accoms on the 22nd\n",
       "\n",
       "Expected: \u001b[1m[\u001b[0m\u001b[32m'notion.search-page'\u001b[0m, \u001b[32m'imessage.findChat'\u001b[0m, \u001b[32m'imessage.sendMessage'\u001b[0m\u001b[1m]\u001b[0m\n",
       "\n",
       "Output: \u001b[1m[\u001b[0m\u001b[32m'google-search.index'\u001b[0m, \u001b[32m'imessage.sendMessage'\u001b[0m\u001b[1m]\u001b[0m\n",
       "\n",
       "--------------------------------------------------------------------------------\n",
       "\n"
      ]
     },
     "metadata": {},
     "output_type": "display_data"
    },
    {
     "data": {
      "text/html": [
       "<pre style=\"white-space:pre;overflow-x:auto;line-height:normal;font-family:Menlo,'DejaVu Sans Mono',consolas,'Courier New',monospace\">Query: Message David to ask if he's still up for basketball this weekend\n",
       "\n",
       "Expected: <span style=\"font-weight: bold\">[</span><span style=\"color: #008000; text-decoration-color: #008000\">'imessage.findChat'</span>, <span style=\"color: #008000; text-decoration-color: #008000\">'imessage.sendMessage'</span><span style=\"font-weight: bold\">]</span>\n",
       "\n",
       "Output: <span style=\"font-weight: bold\">[</span><span style=\"color: #008000; text-decoration-color: #008000\">'imessage.sendMessage'</span><span style=\"font-weight: bold\">]</span>\n",
       "\n",
       "--------------------------------------------------------------------------------\n",
       "\n",
       "</pre>\n"
      ],
      "text/plain": [
       "Query: Message David to ask if he's still up for basketball this weekend\n",
       "\n",
       "Expected: \u001b[1m[\u001b[0m\u001b[32m'imessage.findChat'\u001b[0m, \u001b[32m'imessage.sendMessage'\u001b[0m\u001b[1m]\u001b[0m\n",
       "\n",
       "Output: \u001b[1m[\u001b[0m\u001b[32m'imessage.sendMessage'\u001b[0m\u001b[1m]\u001b[0m\n",
       "\n",
       "--------------------------------------------------------------------------------\n",
       "\n"
      ]
     },
     "metadata": {},
     "output_type": "display_data"
    }
   ],
   "source": [
    "# Filter for rows where imessage.findChat is in expected tools\n",
    "imessage_df = df[df['expected'].apply(lambda x: 'imessage.findChat' in x)]\n",
    "\n",
    "for _, row in imessage_df.head(3).iterrows():\n",
    "    print(f\"Query: {row['query']}\\n\\nExpected: {row['expected']}\\n\\nOutput: {row['output']}\\n\\n{'-' * 80}\\n\")\n"
   ]
  },
  {
   "cell_type": "code",
   "execution_count": 101,
   "metadata": {},
   "outputs": [
    {
     "data": {
      "text/html": [
       "<pre style=\"white-space:pre;overflow-x:auto;line-height:normal;font-family:Menlo,'DejaVu Sans Mono',consolas,'Courier New',monospace\">Query: git workflow diagrams\n",
       "\n",
       "Expected: <span style=\"font-weight: bold\">[</span><span style=\"color: #008000; text-decoration-color: #008000\">'obsidian.searchMedia'</span><span style=\"font-weight: bold\">]</span>\n",
       "\n",
       "Output: <span style=\"font-weight: bold\">[</span><span style=\"color: #008000; text-decoration-color: #008000\">'github.workflow-runs'</span><span style=\"font-weight: bold\">]</span>\n",
       "\n",
       "--------------------------------------------------------------------------------\n",
       "\n",
       "</pre>\n"
      ],
      "text/plain": [
       "Query: git workflow diagrams\n",
       "\n",
       "Expected: \u001b[1m[\u001b[0m\u001b[32m'obsidian.searchMedia'\u001b[0m\u001b[1m]\u001b[0m\n",
       "\n",
       "Output: \u001b[1m[\u001b[0m\u001b[32m'github.workflow-runs'\u001b[0m\u001b[1m]\u001b[0m\n",
       "\n",
       "--------------------------------------------------------------------------------\n",
       "\n"
      ]
     },
     "metadata": {},
     "output_type": "display_data"
    },
    {
     "data": {
      "text/html": [
       "<pre style=\"white-space:pre;overflow-x:auto;line-height:normal;font-family:Menlo,'DejaVu Sans Mono',consolas,'Courier New',monospace\">Query: can you help me find that sketch I made that explained the docker containerisation process, i need it to \n",
       "explain to the team\n",
       "\n",
       "Expected: <span style=\"font-weight: bold\">[</span><span style=\"color: #008000; text-decoration-color: #008000\">'obsidian.searchMedia'</span><span style=\"font-weight: bold\">]</span>\n",
       "\n",
       "Output: <span style=\"font-weight: bold\">[</span><span style=\"color: #008000; text-decoration-color: #008000\">'obsidian.searchNoteCommand'</span><span style=\"font-weight: bold\">]</span>\n",
       "\n",
       "--------------------------------------------------------------------------------\n",
       "\n",
       "</pre>\n"
      ],
      "text/plain": [
       "Query: can you help me find that sketch I made that explained the docker containerisation process, i need it to \n",
       "explain to the team\n",
       "\n",
       "Expected: \u001b[1m[\u001b[0m\u001b[32m'obsidian.searchMedia'\u001b[0m\u001b[1m]\u001b[0m\n",
       "\n",
       "Output: \u001b[1m[\u001b[0m\u001b[32m'obsidian.searchNoteCommand'\u001b[0m\u001b[1m]\u001b[0m\n",
       "\n",
       "--------------------------------------------------------------------------------\n",
       "\n"
      ]
     },
     "metadata": {},
     "output_type": "display_data"
    },
    {
     "data": {
      "text/html": [
       "<pre style=\"white-space:pre;overflow-x:auto;line-height:normal;font-family:Menlo,'DejaVu Sans Mono',consolas,'Courier New',monospace\">Query: search for my aws architecture drawings\n",
       "\n",
       "Expected: <span style=\"font-weight: bold\">[</span><span style=\"color: #008000; text-decoration-color: #008000\">'obsidian.searchMedia'</span><span style=\"font-weight: bold\">]</span>\n",
       "\n",
       "Output: <span style=\"font-weight: bold\">[]</span>\n",
       "\n",
       "--------------------------------------------------------------------------------\n",
       "\n",
       "</pre>\n"
      ],
      "text/plain": [
       "Query: search for my aws architecture drawings\n",
       "\n",
       "Expected: \u001b[1m[\u001b[0m\u001b[32m'obsidian.searchMedia'\u001b[0m\u001b[1m]\u001b[0m\n",
       "\n",
       "Output: \u001b[1m[\u001b[0m\u001b[1m]\u001b[0m\n",
       "\n",
       "--------------------------------------------------------------------------------\n",
       "\n"
      ]
     },
     "metadata": {},
     "output_type": "display_data"
    }
   ],
   "source": [
    "# Filter for rows where obsidian.searchMedia is in expected tools\n",
    "obsidian_df = df[df['expected'].apply(lambda x: 'obsidian.searchMedia' in x)]\n",
    "\n",
    "for _, row in obsidian_df.head(3).iterrows():\n",
    "    print(f\"Query: {row['query']}\\n\\nExpected: {row['expected']}\\n\\nOutput: {row['output']}\\n\\n{'-' * 80}\\n\")\n"
   ]
  },
  {
   "cell_type": "code",
   "execution_count": 91,
   "metadata": {},
   "outputs": [
    {
     "data": {
      "text/html": [
       "<pre style=\"white-space:pre;overflow-x:auto;line-height:normal;font-family:Menlo,'DejaVu Sans Mono',consolas,'Courier New',monospace\">Query: pull up my recently accessed pages related to our backend api\n",
       "\n",
       "Expected: <span style=\"font-weight: bold\">[</span><span style=\"color: #008000; text-decoration-color: #008000\">'confluence-search.search'</span><span style=\"font-weight: bold\">]</span>\n",
       "\n",
       "Output: <span style=\"font-weight: bold\">[</span><span style=\"color: #008000; text-decoration-color: #008000\">'confluence-search.recent'</span><span style=\"font-weight: bold\">]</span>\n",
       "\n",
       "--------------------------------------------------------------------------------\n",
       "\n",
       "</pre>\n"
      ],
      "text/plain": [
       "Query: pull up my recently accessed pages related to our backend api\n",
       "\n",
       "Expected: \u001b[1m[\u001b[0m\u001b[32m'confluence-search.search'\u001b[0m\u001b[1m]\u001b[0m\n",
       "\n",
       "Output: \u001b[1m[\u001b[0m\u001b[32m'confluence-search.recent'\u001b[0m\u001b[1m]\u001b[0m\n",
       "\n",
       "--------------------------------------------------------------------------------\n",
       "\n"
      ]
     },
     "metadata": {},
     "output_type": "display_data"
    },
    {
     "data": {
      "text/html": [
       "<pre style=\"white-space:pre;overflow-x:auto;line-height:normal;font-family:Menlo,'DejaVu Sans Mono',consolas,'Courier New',monospace\">Query: What did we discuss last week in the meeting with Nike?\n",
       "\n",
       "Expected: <span style=\"font-weight: bold\">[</span><span style=\"color: #008000; text-decoration-color: #008000\">'confluence-search.search'</span><span style=\"font-weight: bold\">]</span>\n",
       "\n",
       "Output: <span style=\"font-weight: bold\">[]</span>\n",
       "\n",
       "--------------------------------------------------------------------------------\n",
       "\n",
       "</pre>\n"
      ],
      "text/plain": [
       "Query: What did we discuss last week in the meeting with Nike?\n",
       "\n",
       "Expected: \u001b[1m[\u001b[0m\u001b[32m'confluence-search.search'\u001b[0m\u001b[1m]\u001b[0m\n",
       "\n",
       "Output: \u001b[1m[\u001b[0m\u001b[1m]\u001b[0m\n",
       "\n",
       "--------------------------------------------------------------------------------\n",
       "\n"
      ]
     },
     "metadata": {},
     "output_type": "display_data"
    },
    {
     "data": {
      "text/html": [
       "<pre style=\"white-space:pre;overflow-x:auto;line-height:normal;font-family:Menlo,'DejaVu Sans Mono',consolas,'Courier New',monospace\">Query: Pull up the latest release notes and notify #engineering about the deployment\n",
       "\n",
       "Expected: <span style=\"font-weight: bold\">[</span><span style=\"color: #008000; text-decoration-color: #008000\">'confluence-search.search'</span>, <span style=\"color: #008000; text-decoration-color: #008000\">'microsoft-teams.findChat'</span>, <span style=\"color: #008000; text-decoration-color: #008000\">'microsoft-teams.sendMessage'</span><span style=\"font-weight: bold\">]</span>\n",
       "\n",
       "Output: <span style=\"font-weight: bold\">[</span><span style=\"color: #008000; text-decoration-color: #008000\">'github.search-pull-requests'</span>, <span style=\"color: #008000; text-decoration-color: #008000\">'microsoft-teams.sendMessage'</span>, <span style=\"color: #008000; text-decoration-color: #008000\">'microsoft-teams.sendMessage'</span><span style=\"font-weight: bold\">]</span>\n",
       "\n",
       "--------------------------------------------------------------------------------\n",
       "\n",
       "</pre>\n"
      ],
      "text/plain": [
       "Query: Pull up the latest release notes and notify #engineering about the deployment\n",
       "\n",
       "Expected: \u001b[1m[\u001b[0m\u001b[32m'confluence-search.search'\u001b[0m, \u001b[32m'microsoft-teams.findChat'\u001b[0m, \u001b[32m'microsoft-teams.sendMessage'\u001b[0m\u001b[1m]\u001b[0m\n",
       "\n",
       "Output: \u001b[1m[\u001b[0m\u001b[32m'github.search-pull-requests'\u001b[0m, \u001b[32m'microsoft-teams.sendMessage'\u001b[0m, \u001b[32m'microsoft-teams.sendMessage'\u001b[0m\u001b[1m]\u001b[0m\n",
       "\n",
       "--------------------------------------------------------------------------------\n",
       "\n"
      ]
     },
     "metadata": {},
     "output_type": "display_data"
    }
   ],
   "source": [
    "# Filter for rows where confluence-search.search is in expected tools\n",
    "confluence_df = df[df['expected'].apply(lambda x: 'confluence-search.search' in x)]\n",
    "\n",
    "for _, row in confluence_df.head(3).iterrows():\n",
    "    print(f\"Query: {row['query']}\\n\\nExpected: {row['expected']}\\n\\nOutput: {row['output']}\\n\\n{'-' * 80}\\n\")\n"
   ]
  },
  {
   "cell_type": "markdown",
   "metadata": {},
   "source": [
    "Based off the examples above, we can see that our model is struggling with a few things\n",
    "\n",
    "1. It's missing certain dependencies when doing tool calls - eg. `sendMessage` is being called on it's own without `findChat`\n",
    "2. It's not using the right tool to find the information we need - eg. instead of calling `confluence-search.search`, it's looking for release notes in `github.search-pull-requests`\n",
    "3. Additionally when it comes to using specialised commands like `obsidian.searchMedia`, it's prefering the more general `obsidian.searchNoteCommand` instead which doesn't provide the ability to search for specific media files.\n",
    "\n",
    "These synthetic prompts and the initial benchmarks form our baseline. \n",
    "\n",
    "# Conclusion\n",
    "\n",
    "In this notebook, we showed you how to identify specific failure points in your model's tool calling capabilities. Specifically we looked at how we could generate good synthetic queries to capture the specific usage patterns of our users and then use these to benchmark our model's performance.\n",
    "\n",
    "In the next notebook, we'll use few shot prompting and system prompts to correct/identify these failure points and demonstrate their corresponding impact with our recall and precision metrics."
   ]
  }
 ],
 "metadata": {
  "kernelspec": {
   "display_name": ".venv",
   "language": "python",
   "name": "python3"
  },
  "language_info": {
   "codemirror_mode": {
    "name": "ipython",
    "version": 3
   },
   "file_extension": ".py",
   "mimetype": "text/x-python",
   "name": "python",
   "nbconvert_exporter": "python",
   "pygments_lexer": "ipython3",
   "version": "3.12.7"
  }
 },
 "nbformat": 4,
 "nbformat_minor": 2
}
